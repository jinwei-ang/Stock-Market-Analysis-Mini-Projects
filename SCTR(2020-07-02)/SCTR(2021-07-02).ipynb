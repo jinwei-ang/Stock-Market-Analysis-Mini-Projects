{
 "metadata": {
  "language_info": {
   "codemirror_mode": {
    "name": "ipython",
    "version": 3
   },
   "file_extension": ".py",
   "mimetype": "text/x-python",
   "name": "python",
   "nbconvert_exporter": "python",
   "pygments_lexer": "ipython3",
   "version": "3.8.5"
  },
  "orig_nbformat": 4,
  "kernelspec": {
   "name": "python3",
   "display_name": "Python 3.8.5 64-bit ('base': conda)"
  },
  "interpreter": {
   "hash": "b3ba2566441a7c06988d0923437866b63cedc61552a5af99d1f4fb67d367b25f"
  }
 },
 "nbformat": 4,
 "nbformat_minor": 2,
 "cells": [
  {
   "cell_type": "code",
   "execution_count": 1,
   "metadata": {},
   "outputs": [],
   "source": [
    "import pandas as pd\n",
    "import numpy as np\n",
    "import yfinance as yf\n",
    "from datetime import date,datetime,timedelta\n",
    "from math import floor\n",
    "import matplotlib.pyplot as plt\n",
    "from tqdm.notebook import tqdm"
   ]
  },
  {
   "cell_type": "code",
   "execution_count": 2,
   "metadata": {},
   "outputs": [],
   "source": [
    "# Import ticker list for S&P500\n",
    "\n",
    "import yahoo_fin.stock_info as si\n",
    "\n",
    "tickers_list = si.tickers_sp500()\n",
    "tickers_list.remove('OGN')"
   ]
  },
  {
   "cell_type": "code",
   "execution_count": 3,
   "metadata": {},
   "outputs": [],
   "source": [
    "# Function - RSI\n",
    "\n",
    "def rsiFunc(prices, n=14):\n",
    "    deltas = np.diff(prices)\n",
    "    seed = deltas[:n+1]\n",
    "    up = seed[seed>=0].sum()/n\n",
    "    down = -seed[seed<0].sum()/n\n",
    "    rs = up/down\n",
    "    rsi = np.zeros_like(prices)\n",
    "    rsi[:n] = 100. - 100./(1.+rs)\n",
    "\n",
    "    for i in range(n, len(prices)):\n",
    "        delta = deltas[i-1] # cause the diff is 1 shorter\n",
    "\n",
    "        if delta>0:\n",
    "            upval = delta\n",
    "            downval = 0.\n",
    "        else:\n",
    "            upval = 0.\n",
    "            downval = -delta\n",
    "\n",
    "        up = (up*(n-1) + upval)/n\n",
    "        down = (down*(n-1) + downval)/n\n",
    "\n",
    "        rs = up/down\n",
    "        rsi[i] = 100. - 100./(1.+rs)\n",
    "\n",
    "    return rsi"
   ]
  },
  {
   "cell_type": "code",
   "execution_count": 4,
   "metadata": {
    "tags": []
   },
   "outputs": [],
   "source": [
    "# Historical data for 500days\n",
    "\n",
    "def stock_data_all(ticker):\n",
    "    # start_date1 = date.today()\n",
    "    end_date1 = date.today()-timedelta(days=300)\n",
    "    # start_date = start_date1.strftime(\"%Y-%m-%d\")\n",
    "    end_date = end_date1.strftime(\"%Y-%m-%d\")\n",
    "\n",
    "    # Request data:\n",
    "    data = yf.download(ticker,\n",
    "                        end_date)\n",
    "    \n",
    "    return data"
   ]
  },
  {
   "cell_type": "code",
   "execution_count": 5,
   "metadata": {
    "tags": [
     "outputPrepend"
    ]
   },
   "outputs": [
    {
     "output_type": "display_data",
     "data": {
      "text/plain": "  0%|          | 0/504 [00:00<?, ?it/s]",
      "application/vnd.jupyter.widget-view+json": {
       "version_major": 2,
       "version_minor": 0,
       "model_id": "f9cd6f42d8194e3fbc6d9d97a7c9363f"
      }
     },
     "metadata": {}
    },
    {
     "output_type": "stream",
     "name": "stdout",
     "text": [
      "************100%***********************]  1 of 1 completed\n",
      "[*********************100%***********************]  1 of 1 completed\n",
      "[*********************100%***********************]  1 of 1 completed\n",
      "[*********************100%***********************]  1 of 1 completed\n",
      "[*********************100%***********************]  1 of 1 completed\n",
      "[*********************100%***********************]  1 of 1 completed\n",
      "[*********************100%***********************]  1 of 1 completed\n",
      "[*********************100%***********************]  1 of 1 completed\n",
      "[*********************100%***********************]  1 of 1 completed\n",
      "[*********************100%***********************]  1 of 1 completed\n",
      "[*********************100%***********************]  1 of 1 completed\n",
      "[*********************100%***********************]  1 of 1 completed\n",
      "[*********************100%***********************]  1 of 1 completed\n",
      "[*********************100%***********************]  1 of 1 completed\n",
      "[*********************100%***********************]  1 of 1 completed\n",
      "[*********************100%***********************]  1 of 1 completed\n",
      "[*********************100%***********************]  1 of 1 completed\n",
      "[*********************100%***********************]  1 of 1 completed\n",
      "[*********************100%***********************]  1 of 1 completed\n",
      "[*********************100%***********************]  1 of 1 completed\n",
      "[*********************100%***********************]  1 of 1 completed\n",
      "[*********************100%***********************]  1 of 1 completed\n",
      "[*********************100%***********************]  1 of 1 completed\n",
      "[*********************100%***********************]  1 of 1 completed\n",
      "[*********************100%***********************]  1 of 1 completed\n",
      "[*********************100%***********************]  1 of 1 completed\n",
      "[*********************100%***********************]  1 of 1 completed\n",
      "[*********************100%***********************]  1 of 1 completed\n",
      "[*********************100%***********************]  1 of 1 completed\n",
      "[*********************100%***********************]  1 of 1 completed\n",
      "[*********************100%***********************]  1 of 1 completed\n",
      "[*********************100%***********************]  1 of 1 completed\n",
      "[*********************100%***********************]  1 of 1 completed\n",
      "[*********************100%***********************]  1 of 1 completed\n",
      "[*********************100%***********************]  1 of 1 completed\n",
      "[*********************100%***********************]  1 of 1 completed\n",
      "[*********************100%***********************]  1 of 1 completed\n",
      "[*********************100%***********************]  1 of 1 completed\n",
      "[*********************100%***********************]  1 of 1 completed\n",
      "[*********************100%***********************]  1 of 1 completed\n",
      "[*********************100%***********************]  1 of 1 completed\n",
      "[*********************100%***********************]  1 of 1 completed\n",
      "[*********************100%***********************]  1 of 1 completed\n",
      "[*********************100%***********************]  1 of 1 completed\n",
      "[*********************100%***********************]  1 of 1 completed\n",
      "[*********************100%***********************]  1 of 1 completed\n",
      "[*********************100%***********************]  1 of 1 completed\n",
      "[*********************100%***********************]  1 of 1 completed\n",
      "[*********************100%***********************]  1 of 1 completed\n",
      "[*********************100%***********************]  1 of 1 completed\n",
      "[*********************100%***********************]  1 of 1 completed\n",
      "[*********************100%***********************]  1 of 1 completed\n",
      "[*********************100%***********************]  1 of 1 completed\n",
      "[*********************100%***********************]  1 of 1 completed\n",
      "[*********************100%***********************]  1 of 1 completed\n",
      "[*********************100%***********************]  1 of 1 completed\n",
      "[*********************100%***********************]  1 of 1 completed\n",
      "[*********************100%***********************]  1 of 1 completed\n",
      "[*********************100%***********************]  1 of 1 completed\n",
      "[*********************100%***********************]  1 of 1 completed\n",
      "[*********************100%***********************]  1 of 1 completed\n",
      "[*********************100%***********************]  1 of 1 completed\n",
      "[*********************100%***********************]  1 of 1 completed\n",
      "[*********************100%***********************]  1 of 1 completed\n",
      "[*********************100%***********************]  1 of 1 completed\n",
      "[*********************100%***********************]  1 of 1 completed\n",
      "[*********************100%***********************]  1 of 1 completed\n",
      "[*********************100%***********************]  1 of 1 completed\n",
      "[*********************100%***********************]  1 of 1 completed\n",
      "[*********************100%***********************]  1 of 1 completed\n",
      "[*********************100%***********************]  1 of 1 completed\n",
      "[*********************100%***********************]  1 of 1 completed\n",
      "[*********************100%***********************]  1 of 1 completed\n",
      "[*********************100%***********************]  1 of 1 completed\n",
      "[*********************100%***********************]  1 of 1 completed\n",
      "[*********************100%***********************]  1 of 1 completed\n",
      "[*********************100%***********************]  1 of 1 completed\n",
      "[*********************100%***********************]  1 of 1 completed\n",
      "[*********************100%***********************]  1 of 1 completed\n",
      "[*********************100%***********************]  1 of 1 completed\n",
      "[*********************100%***********************]  1 of 1 completed\n",
      "[*********************100%***********************]  1 of 1 completed\n",
      "[*********************100%***********************]  1 of 1 completed\n",
      "[*********************100%***********************]  1 of 1 completed\n",
      "[*********************100%***********************]  1 of 1 completed\n",
      "[*********************100%***********************]  1 of 1 completed\n",
      "[*********************100%***********************]  1 of 1 completed\n",
      "[*********************100%***********************]  1 of 1 completed\n",
      "[*********************100%***********************]  1 of 1 completed\n",
      "[*********************100%***********************]  1 of 1 completed\n",
      "[*********************100%***********************]  1 of 1 completed\n",
      "[*********************100%***********************]  1 of 1 completed\n",
      "[*********************100%***********************]  1 of 1 completed\n",
      "[*********************100%***********************]  1 of 1 completed\n",
      "[*********************100%***********************]  1 of 1 completed\n",
      "[*********************100%***********************]  1 of 1 completed\n",
      "[*********************100%***********************]  1 of 1 completed\n",
      "[*********************100%***********************]  1 of 1 completed\n",
      "[*********************100%***********************]  1 of 1 completed\n",
      "[*********************100%***********************]  1 of 1 completed\n",
      "[*********************100%***********************]  1 of 1 completed\n",
      "[*********************100%***********************]  1 of 1 completed\n",
      "[*********************100%***********************]  1 of 1 completed\n",
      "[*********************100%***********************]  1 of 1 completed\n",
      "[*********************100%***********************]  1 of 1 completed\n",
      "[*********************100%***********************]  1 of 1 completed\n",
      "[*********************100%***********************]  1 of 1 completed\n",
      "[*********************100%***********************]  1 of 1 completed\n",
      "[*********************100%***********************]  1 of 1 completed\n",
      "[*********************100%***********************]  1 of 1 completed\n",
      "[*********************100%***********************]  1 of 1 completed\n",
      "[*********************100%***********************]  1 of 1 completed\n",
      "[*********************100%***********************]  1 of 1 completed\n",
      "[*********************100%***********************]  1 of 1 completed\n",
      "[*********************100%***********************]  1 of 1 completed\n",
      "[*********************100%***********************]  1 of 1 completed\n",
      "[*********************100%***********************]  1 of 1 completed\n",
      "[*********************100%***********************]  1 of 1 completed\n",
      "[*********************100%***********************]  1 of 1 completed\n",
      "[*********************100%***********************]  1 of 1 completed\n",
      "[*********************100%***********************]  1 of 1 completed\n",
      "[*********************100%***********************]  1 of 1 completed\n",
      "[*********************100%***********************]  1 of 1 completed\n",
      "[*********************100%***********************]  1 of 1 completed\n",
      "[*********************100%***********************]  1 of 1 completed\n",
      "[*********************100%***********************]  1 of 1 completed\n",
      "[*********************100%***********************]  1 of 1 completed\n",
      "[*********************100%***********************]  1 of 1 completed\n",
      "[*********************100%***********************]  1 of 1 completed\n",
      "[*********************100%***********************]  1 of 1 completed\n",
      "[*********************100%***********************]  1 of 1 completed\n",
      "[*********************100%***********************]  1 of 1 completed\n",
      "[*********************100%***********************]  1 of 1 completed\n",
      "[*********************100%***********************]  1 of 1 completed\n",
      "[*********************100%***********************]  1 of 1 completed\n",
      "[*********************100%***********************]  1 of 1 completed\n",
      "[*********************100%***********************]  1 of 1 completed\n",
      "[*********************100%***********************]  1 of 1 completed\n",
      "[*********************100%***********************]  1 of 1 completed\n",
      "[*********************100%***********************]  1 of 1 completed\n",
      "[*********************100%***********************]  1 of 1 completed\n",
      "[*********************100%***********************]  1 of 1 completed\n",
      "[*********************100%***********************]  1 of 1 completed\n",
      "[*********************100%***********************]  1 of 1 completed\n",
      "[*********************100%***********************]  1 of 1 completed\n",
      "[*********************100%***********************]  1 of 1 completed\n",
      "[*********************100%***********************]  1 of 1 completed\n",
      "[*********************100%***********************]  1 of 1 completed\n",
      "[*********************100%***********************]  1 of 1 completed\n",
      "[*********************100%***********************]  1 of 1 completed\n",
      "[*********************100%***********************]  1 of 1 completed\n",
      "[*********************100%***********************]  1 of 1 completed\n",
      "[*********************100%***********************]  1 of 1 completed\n",
      "[*********************100%***********************]  1 of 1 completed\n",
      "[*********************100%***********************]  1 of 1 completed\n",
      "[*********************100%***********************]  1 of 1 completed\n",
      "[*********************100%***********************]  1 of 1 completed\n",
      "[*********************100%***********************]  1 of 1 completed\n",
      "[*********************100%***********************]  1 of 1 completed\n",
      "[*********************100%***********************]  1 of 1 completed\n",
      "[*********************100%***********************]  1 of 1 completed\n",
      "[*********************100%***********************]  1 of 1 completed\n",
      "[*********************100%***********************]  1 of 1 completed\n",
      "[*********************100%***********************]  1 of 1 completed\n",
      "[*********************100%***********************]  1 of 1 completed\n",
      "[*********************100%***********************]  1 of 1 completed\n",
      "[*********************100%***********************]  1 of 1 completed\n",
      "[*********************100%***********************]  1 of 1 completed\n",
      "[*********************100%***********************]  1 of 1 completed\n",
      "[*********************100%***********************]  1 of 1 completed\n",
      "[*********************100%***********************]  1 of 1 completed\n",
      "[*********************100%***********************]  1 of 1 completed\n",
      "[*********************100%***********************]  1 of 1 completed\n",
      "[*********************100%***********************]  1 of 1 completed\n",
      "[*********************100%***********************]  1 of 1 completed\n",
      "[*********************100%***********************]  1 of 1 completed\n",
      "[*********************100%***********************]  1 of 1 completed\n",
      "[*********************100%***********************]  1 of 1 completed\n",
      "[*********************100%***********************]  1 of 1 completed\n",
      "[*********************100%***********************]  1 of 1 completed\n",
      "[*********************100%***********************]  1 of 1 completed\n",
      "[*********************100%***********************]  1 of 1 completed\n",
      "[*********************100%***********************]  1 of 1 completed\n",
      "[*********************100%***********************]  1 of 1 completed\n",
      "[*********************100%***********************]  1 of 1 completed\n",
      "[*********************100%***********************]  1 of 1 completed\n",
      "[*********************100%***********************]  1 of 1 completed\n",
      "[*********************100%***********************]  1 of 1 completed\n",
      "[*********************100%***********************]  1 of 1 completed\n",
      "[*********************100%***********************]  1 of 1 completed\n",
      "[*********************100%***********************]  1 of 1 completed\n",
      "[*********************100%***********************]  1 of 1 completed\n",
      "[*********************100%***********************]  1 of 1 completed\n",
      "[*********************100%***********************]  1 of 1 completed\n",
      "[*********************100%***********************]  1 of 1 completed\n",
      "[*********************100%***********************]  1 of 1 completed\n",
      "[*********************100%***********************]  1 of 1 completed\n",
      "[*********************100%***********************]  1 of 1 completed\n",
      "[*********************100%***********************]  1 of 1 completed\n",
      "[*********************100%***********************]  1 of 1 completed\n",
      "[*********************100%***********************]  1 of 1 completed\n",
      "[*********************100%***********************]  1 of 1 completed\n",
      "[*********************100%***********************]  1 of 1 completed\n",
      "[*********************100%***********************]  1 of 1 completed\n",
      "[*********************100%***********************]  1 of 1 completed\n",
      "[*********************100%***********************]  1 of 1 completed\n",
      "[*********************100%***********************]  1 of 1 completed\n",
      "[*********************100%***********************]  1 of 1 completed\n",
      "[*********************100%***********************]  1 of 1 completed\n",
      "[*********************100%***********************]  1 of 1 completed\n",
      "[*********************100%***********************]  1 of 1 completed\n",
      "[*********************100%***********************]  1 of 1 completed\n",
      "[*********************100%***********************]  1 of 1 completed\n",
      "[*********************100%***********************]  1 of 1 completed\n",
      "[*********************100%***********************]  1 of 1 completed\n",
      "[*********************100%***********************]  1 of 1 completed\n",
      "[*********************100%***********************]  1 of 1 completed\n",
      "[*********************100%***********************]  1 of 1 completed\n",
      "[*********************100%***********************]  1 of 1 completed\n",
      "[*********************100%***********************]  1 of 1 completed\n",
      "[*********************100%***********************]  1 of 1 completed\n",
      "[*********************100%***********************]  1 of 1 completed\n",
      "[*********************100%***********************]  1 of 1 completed\n",
      "[*********************100%***********************]  1 of 1 completed\n",
      "[*********************100%***********************]  1 of 1 completed\n",
      "[*********************100%***********************]  1 of 1 completed\n",
      "[*********************100%***********************]  1 of 1 completed\n",
      "[*********************100%***********************]  1 of 1 completed\n",
      "[*********************100%***********************]  1 of 1 completed\n",
      "[*********************100%***********************]  1 of 1 completed\n",
      "[*********************100%***********************]  1 of 1 completed\n",
      "[*********************100%***********************]  1 of 1 completed\n",
      "[*********************100%***********************]  1 of 1 completed\n",
      "[*********************100%***********************]  1 of 1 completed\n",
      "[*********************100%***********************]  1 of 1 completed\n",
      "[*********************100%***********************]  1 of 1 completed\n",
      "[*********************100%***********************]  1 of 1 completed\n",
      "[*********************100%***********************]  1 of 1 completed\n",
      "[*********************100%***********************]  1 of 1 completed\n",
      "[*********************100%***********************]  1 of 1 completed\n",
      "[*********************100%***********************]  1 of 1 completed\n",
      "[*********************100%***********************]  1 of 1 completed\n",
      "[*********************100%***********************]  1 of 1 completed\n",
      "[*********************100%***********************]  1 of 1 completed\n",
      "[*********************100%***********************]  1 of 1 completed\n",
      "[*********************100%***********************]  1 of 1 completed\n",
      "[*********************100%***********************]  1 of 1 completed\n",
      "[*********************100%***********************]  1 of 1 completed\n",
      "[*********************100%***********************]  1 of 1 completed\n",
      "[*********************100%***********************]  1 of 1 completed\n",
      "[*********************100%***********************]  1 of 1 completed\n",
      "[*********************100%***********************]  1 of 1 completed\n",
      "[*********************100%***********************]  1 of 1 completed\n",
      "[*********************100%***********************]  1 of 1 completed\n",
      "[*********************100%***********************]  1 of 1 completed\n",
      "[*********************100%***********************]  1 of 1 completed\n",
      "[*********************100%***********************]  1 of 1 completed\n",
      "[*********************100%***********************]  1 of 1 completed\n",
      "[*********************100%***********************]  1 of 1 completed\n",
      "[*********************100%***********************]  1 of 1 completed\n",
      "[*********************100%***********************]  1 of 1 completed\n",
      "[*********************100%***********************]  1 of 1 completed\n",
      "[*********************100%***********************]  1 of 1 completed\n",
      "[*********************100%***********************]  1 of 1 completed\n",
      "[*********************100%***********************]  1 of 1 completed\n",
      "[*********************100%***********************]  1 of 1 completed\n",
      "[*********************100%***********************]  1 of 1 completed\n",
      "[*********************100%***********************]  1 of 1 completed\n",
      "[*********************100%***********************]  1 of 1 completed\n",
      "[*********************100%***********************]  1 of 1 completed\n",
      "[*********************100%***********************]  1 of 1 completed\n",
      "[*********************100%***********************]  1 of 1 completed\n",
      "[*********************100%***********************]  1 of 1 completed\n",
      "[*********************100%***********************]  1 of 1 completed\n",
      "[*********************100%***********************]  1 of 1 completed\n",
      "[*********************100%***********************]  1 of 1 completed\n",
      "[*********************100%***********************]  1 of 1 completed\n",
      "[*********************100%***********************]  1 of 1 completed\n",
      "[*********************100%***********************]  1 of 1 completed\n",
      "[*********************100%***********************]  1 of 1 completed\n",
      "[*********************100%***********************]  1 of 1 completed\n",
      "[*********************100%***********************]  1 of 1 completed\n",
      "[*********************100%***********************]  1 of 1 completed\n",
      "[*********************100%***********************]  1 of 1 completed\n",
      "[*********************100%***********************]  1 of 1 completed\n",
      "[*********************100%***********************]  1 of 1 completed\n",
      "[*********************100%***********************]  1 of 1 completed\n",
      "[*********************100%***********************]  1 of 1 completed\n",
      "[*********************100%***********************]  1 of 1 completed\n",
      "[*********************100%***********************]  1 of 1 completed\n"
     ]
    }
   ],
   "source": [
    "stock_final = pd.DataFrame()\n",
    "\n",
    "for ticker in tqdm(tickers_list):   \n",
    "    stock = []\n",
    "    stock = stock_data_all(ticker)\n",
    " \n",
    "    if len(stock) == 0:\n",
    "        None\n",
    "    else:\n",
    "        stock['Ticker']=ticker\n",
    "        stock_final = stock_final.append(stock,sort=False)"
   ]
  },
  {
   "cell_type": "code",
   "execution_count": 6,
   "metadata": {},
   "outputs": [
    {
     "output_type": "execute_result",
     "data": {
      "text/plain": [
       "           Ticker        Open        High         Low       Close   Volume\n",
       "Date                                                                      \n",
       "2020-09-08      A   96.110001   96.470001   94.760002   94.544952  1225600\n",
       "2020-09-09      A   96.099998   98.470001   95.860001   97.317505   954400\n",
       "2020-09-10      A   98.879997  100.099998   98.239998   97.953506  1933200\n",
       "2020-09-11      A   98.709999   99.620003   98.019997   97.983307  1368600\n",
       "2020-09-14      A   99.730003  100.230003   98.970001   98.798180  1207700\n",
       "...           ...         ...         ...         ...         ...      ...\n",
       "2021-06-28    ZTS  187.339996  187.929993  185.639999  187.080002  1386100\n",
       "2021-06-29    ZTS  187.089996  188.190002  186.089996  187.990005   853900\n",
       "2021-06-30    ZTS  188.110001  188.529999  185.580002  186.360001  1203600\n",
       "2021-07-01    ZTS  187.000000  189.460007  186.610001  189.289993  1997200\n",
       "2021-07-02    ZTS  189.869995  193.039993  189.759995  192.699997  1767000\n",
       "\n",
       "[104328 rows x 6 columns]"
      ],
      "text/html": "<div>\n<style scoped>\n    .dataframe tbody tr th:only-of-type {\n        vertical-align: middle;\n    }\n\n    .dataframe tbody tr th {\n        vertical-align: top;\n    }\n\n    .dataframe thead th {\n        text-align: right;\n    }\n</style>\n<table border=\"1\" class=\"dataframe\">\n  <thead>\n    <tr style=\"text-align: right;\">\n      <th></th>\n      <th>Ticker</th>\n      <th>Open</th>\n      <th>High</th>\n      <th>Low</th>\n      <th>Close</th>\n      <th>Volume</th>\n    </tr>\n    <tr>\n      <th>Date</th>\n      <th></th>\n      <th></th>\n      <th></th>\n      <th></th>\n      <th></th>\n      <th></th>\n    </tr>\n  </thead>\n  <tbody>\n    <tr>\n      <th>2020-09-08</th>\n      <td>A</td>\n      <td>96.110001</td>\n      <td>96.470001</td>\n      <td>94.760002</td>\n      <td>94.544952</td>\n      <td>1225600</td>\n    </tr>\n    <tr>\n      <th>2020-09-09</th>\n      <td>A</td>\n      <td>96.099998</td>\n      <td>98.470001</td>\n      <td>95.860001</td>\n      <td>97.317505</td>\n      <td>954400</td>\n    </tr>\n    <tr>\n      <th>2020-09-10</th>\n      <td>A</td>\n      <td>98.879997</td>\n      <td>100.099998</td>\n      <td>98.239998</td>\n      <td>97.953506</td>\n      <td>1933200</td>\n    </tr>\n    <tr>\n      <th>2020-09-11</th>\n      <td>A</td>\n      <td>98.709999</td>\n      <td>99.620003</td>\n      <td>98.019997</td>\n      <td>97.983307</td>\n      <td>1368600</td>\n    </tr>\n    <tr>\n      <th>2020-09-14</th>\n      <td>A</td>\n      <td>99.730003</td>\n      <td>100.230003</td>\n      <td>98.970001</td>\n      <td>98.798180</td>\n      <td>1207700</td>\n    </tr>\n    <tr>\n      <th>...</th>\n      <td>...</td>\n      <td>...</td>\n      <td>...</td>\n      <td>...</td>\n      <td>...</td>\n      <td>...</td>\n    </tr>\n    <tr>\n      <th>2021-06-28</th>\n      <td>ZTS</td>\n      <td>187.339996</td>\n      <td>187.929993</td>\n      <td>185.639999</td>\n      <td>187.080002</td>\n      <td>1386100</td>\n    </tr>\n    <tr>\n      <th>2021-06-29</th>\n      <td>ZTS</td>\n      <td>187.089996</td>\n      <td>188.190002</td>\n      <td>186.089996</td>\n      <td>187.990005</td>\n      <td>853900</td>\n    </tr>\n    <tr>\n      <th>2021-06-30</th>\n      <td>ZTS</td>\n      <td>188.110001</td>\n      <td>188.529999</td>\n      <td>185.580002</td>\n      <td>186.360001</td>\n      <td>1203600</td>\n    </tr>\n    <tr>\n      <th>2021-07-01</th>\n      <td>ZTS</td>\n      <td>187.000000</td>\n      <td>189.460007</td>\n      <td>186.610001</td>\n      <td>189.289993</td>\n      <td>1997200</td>\n    </tr>\n    <tr>\n      <th>2021-07-02</th>\n      <td>ZTS</td>\n      <td>189.869995</td>\n      <td>193.039993</td>\n      <td>189.759995</td>\n      <td>192.699997</td>\n      <td>1767000</td>\n    </tr>\n  </tbody>\n</table>\n<p>104328 rows × 6 columns</p>\n</div>"
     },
     "metadata": {},
     "execution_count": 6
    }
   ],
   "source": [
    "stock_final2 = stock_final[['Ticker','Open','High','Low','Adj Close','Volume']]\n",
    "stock_final2 = stock_final2.rename(columns={'Adj Close': 'Close'}, inplace=False)\n",
    "stock_final2"
   ]
  },
  {
   "cell_type": "code",
   "execution_count": 7,
   "metadata": {},
   "outputs": [
    {
     "output_type": "execute_result",
     "data": {
      "text/plain": [
       "           Ticker       Close\n",
       "Date                         \n",
       "2020-09-08      A   94.544952\n",
       "2020-09-09      A   97.317505\n",
       "2020-09-10      A   97.953506\n",
       "2020-09-11      A   97.983307\n",
       "2020-09-14      A   98.798180\n",
       "...           ...         ...\n",
       "2021-06-28    ZTS  187.080002\n",
       "2021-06-29    ZTS  187.990005\n",
       "2021-06-30    ZTS  186.360001\n",
       "2021-07-01    ZTS  189.289993\n",
       "2021-07-02    ZTS  192.699997\n",
       "\n",
       "[104328 rows x 2 columns]"
      ],
      "text/html": "<div>\n<style scoped>\n    .dataframe tbody tr th:only-of-type {\n        vertical-align: middle;\n    }\n\n    .dataframe tbody tr th {\n        vertical-align: top;\n    }\n\n    .dataframe thead th {\n        text-align: right;\n    }\n</style>\n<table border=\"1\" class=\"dataframe\">\n  <thead>\n    <tr style=\"text-align: right;\">\n      <th></th>\n      <th>Ticker</th>\n      <th>Close</th>\n    </tr>\n    <tr>\n      <th>Date</th>\n      <th></th>\n      <th></th>\n    </tr>\n  </thead>\n  <tbody>\n    <tr>\n      <th>2020-09-08</th>\n      <td>A</td>\n      <td>94.544952</td>\n    </tr>\n    <tr>\n      <th>2020-09-09</th>\n      <td>A</td>\n      <td>97.317505</td>\n    </tr>\n    <tr>\n      <th>2020-09-10</th>\n      <td>A</td>\n      <td>97.953506</td>\n    </tr>\n    <tr>\n      <th>2020-09-11</th>\n      <td>A</td>\n      <td>97.983307</td>\n    </tr>\n    <tr>\n      <th>2020-09-14</th>\n      <td>A</td>\n      <td>98.798180</td>\n    </tr>\n    <tr>\n      <th>...</th>\n      <td>...</td>\n      <td>...</td>\n    </tr>\n    <tr>\n      <th>2021-06-28</th>\n      <td>ZTS</td>\n      <td>187.080002</td>\n    </tr>\n    <tr>\n      <th>2021-06-29</th>\n      <td>ZTS</td>\n      <td>187.990005</td>\n    </tr>\n    <tr>\n      <th>2021-06-30</th>\n      <td>ZTS</td>\n      <td>186.360001</td>\n    </tr>\n    <tr>\n      <th>2021-07-01</th>\n      <td>ZTS</td>\n      <td>189.289993</td>\n    </tr>\n    <tr>\n      <th>2021-07-02</th>\n      <td>ZTS</td>\n      <td>192.699997</td>\n    </tr>\n  </tbody>\n</table>\n<p>104328 rows × 2 columns</p>\n</div>"
     },
     "metadata": {},
     "execution_count": 7
    }
   ],
   "source": [
    "sctr = stock_final2[['Ticker','Close']]\n",
    "sctr"
   ]
  },
  {
   "cell_type": "code",
   "execution_count": 8,
   "metadata": {},
   "outputs": [
    {
     "output_type": "stream",
     "name": "stderr",
     "text": [
      "<ipython-input-8-f30b3868d5e7>:2: SettingWithCopyWarning: \nA value is trying to be set on a copy of a slice from a DataFrame.\nTry using .loc[row_indexer,col_indexer] = value instead\n\nSee the caveats in the documentation: https://pandas.pydata.org/pandas-docs/stable/user_guide/indexing.html#returning-a-view-versus-a-copy\n  sctr['exp200'] = sctr['Close'].ewm(span=200, adjust=False).mean()\n<ipython-input-8-f30b3868d5e7>:3: SettingWithCopyWarning: \nA value is trying to be set on a copy of a slice from a DataFrame.\nTry using .loc[row_indexer,col_indexer] = value instead\n\nSee the caveats in the documentation: https://pandas.pydata.org/pandas-docs/stable/user_guide/indexing.html#returning-a-view-versus-a-copy\n  sctr['sctrlt_200ema'] = (sctr['Close']/sctr['exp200'] - 1)*100*0.3\n<ipython-input-8-f30b3868d5e7>:5: SettingWithCopyWarning: \nA value is trying to be set on a copy of a slice from a DataFrame.\nTry using .loc[row_indexer,col_indexer] = value instead\n\nSee the caveats in the documentation: https://pandas.pydata.org/pandas-docs/stable/user_guide/indexing.html#returning-a-view-versus-a-copy\n  sctr['125_day_roc'] = sctr['Close'].pct_change(periods=125) *100\n"
     ]
    },
    {
     "output_type": "execute_result",
     "data": {
      "text/plain": [
       "           Ticker  SCTR\n",
       "Date                   \n",
       "2020-09-08      A   NaN\n",
       "2020-09-09      A   NaN\n",
       "2020-09-10      A   NaN\n",
       "2020-09-11      A   NaN\n",
       "2020-09-14      A   NaN\n",
       "2020-09-15      A   NaN\n",
       "2020-09-16      A   NaN\n",
       "2020-09-17      A   NaN\n",
       "2020-09-18      A   NaN\n",
       "2020-09-21      A   NaN"
      ],
      "text/html": "<div>\n<style scoped>\n    .dataframe tbody tr th:only-of-type {\n        vertical-align: middle;\n    }\n\n    .dataframe tbody tr th {\n        vertical-align: top;\n    }\n\n    .dataframe thead th {\n        text-align: right;\n    }\n</style>\n<table border=\"1\" class=\"dataframe\">\n  <thead>\n    <tr style=\"text-align: right;\">\n      <th></th>\n      <th>Ticker</th>\n      <th>SCTR</th>\n    </tr>\n    <tr>\n      <th>Date</th>\n      <th></th>\n      <th></th>\n    </tr>\n  </thead>\n  <tbody>\n    <tr>\n      <th>2020-09-08</th>\n      <td>A</td>\n      <td>NaN</td>\n    </tr>\n    <tr>\n      <th>2020-09-09</th>\n      <td>A</td>\n      <td>NaN</td>\n    </tr>\n    <tr>\n      <th>2020-09-10</th>\n      <td>A</td>\n      <td>NaN</td>\n    </tr>\n    <tr>\n      <th>2020-09-11</th>\n      <td>A</td>\n      <td>NaN</td>\n    </tr>\n    <tr>\n      <th>2020-09-14</th>\n      <td>A</td>\n      <td>NaN</td>\n    </tr>\n    <tr>\n      <th>2020-09-15</th>\n      <td>A</td>\n      <td>NaN</td>\n    </tr>\n    <tr>\n      <th>2020-09-16</th>\n      <td>A</td>\n      <td>NaN</td>\n    </tr>\n    <tr>\n      <th>2020-09-17</th>\n      <td>A</td>\n      <td>NaN</td>\n    </tr>\n    <tr>\n      <th>2020-09-18</th>\n      <td>A</td>\n      <td>NaN</td>\n    </tr>\n    <tr>\n      <th>2020-09-21</th>\n      <td>A</td>\n      <td>NaN</td>\n    </tr>\n  </tbody>\n</table>\n</div>"
     },
     "metadata": {},
     "execution_count": 8
    }
   ],
   "source": [
    "# SCTR\n",
    "sctr['exp200'] = sctr['Close'].ewm(span=200, adjust=False).mean()\n",
    "sctr['sctrlt_200ema'] = (sctr['Close']/sctr['exp200'] - 1)*100*0.3\n",
    "\n",
    "sctr['125_day_roc'] = sctr['Close'].pct_change(periods=125) *100\n",
    "sctr['sctrlt_roc125'] = sctr['125_day_roc']*0.3\n",
    "\n",
    "sctr['exp50'] = sctr['Close'].ewm(span=50, adjust=False).mean()\n",
    "sctr['sctrmt_ema50'] = (sctr['Close']/sctr['exp50'] -1)*100*0.15\n",
    "\n",
    "sctr['20_day_roc'] = sctr['Close'].pct_change(periods=20) *100\n",
    "sctr['sctrmt_roc20'] = sctr['20_day_roc']*0.15\n",
    "sctr['PPO'] = (sctr['Close'].ewm(span=12, adjust=False).mean() - sctr['Close'].ewm(span=26, adjust=False).mean())/(sctr['Close'].ewm(span=26, adjust=False).mean()) *100\n",
    "\n",
    "sctr['PPO_signal'] = sctr['PPO'].ewm(span=9, adjust=False).mean()\n",
    "sctr['PPO_histogram'] = sctr['PPO'] - sctr['PPO_signal']\n",
    "sctr['adj3'] = sctr['PPO_histogram'].shift(2)\n",
    "sctr['PPO_3_day_slope'] = (sctr['PPO_histogram'] - sctr['adj3'])/3\n",
    "sctr['sctrst_ppo'] = ((sctr['PPO_3_day_slope'] + 1)*50) * 0.05\n",
    "sctr['rsi'] = rsiFunc(sctr['Close'], n=14)\n",
    "sctr['sctrst_rsi'] = sctr['rsi'] *0.05\n",
    "\n",
    "sctr['SCTR'] = sctr['sctrlt_200ema'] + sctr['sctrlt_roc125'] + sctr['sctrmt_ema50'] + sctr['sctrmt_roc20'] + sctr['sctrst_ppo'] + sctr['sctrst_rsi']\n",
    "sctr = sctr.filter(['Date','Ticker','SCTR'])\n",
    "sctr.head(10)"
   ]
  },
  {
   "cell_type": "code",
   "execution_count": 9,
   "metadata": {},
   "outputs": [
    {
     "output_type": "execute_result",
     "data": {
      "text/plain": [
       "           Ticker         %D\n",
       "Date                        \n",
       "2020-09-08      A        NaN\n",
       "2020-09-09      A        NaN\n",
       "2020-09-10      A        NaN\n",
       "2020-09-11      A        NaN\n",
       "2020-09-14      A        NaN\n",
       "2020-09-15      A        NaN\n",
       "2020-09-16      A  61.893458\n",
       "2020-09-17      A  46.374335\n",
       "2020-09-18      A  27.752549\n",
       "2020-09-21      A  22.378370"
      ],
      "text/html": "<div>\n<style scoped>\n    .dataframe tbody tr th:only-of-type {\n        vertical-align: middle;\n    }\n\n    .dataframe tbody tr th {\n        vertical-align: top;\n    }\n\n    .dataframe thead th {\n        text-align: right;\n    }\n</style>\n<table border=\"1\" class=\"dataframe\">\n  <thead>\n    <tr style=\"text-align: right;\">\n      <th></th>\n      <th>Ticker</th>\n      <th>%D</th>\n    </tr>\n    <tr>\n      <th>Date</th>\n      <th></th>\n      <th></th>\n    </tr>\n  </thead>\n  <tbody>\n    <tr>\n      <th>2020-09-08</th>\n      <td>A</td>\n      <td>NaN</td>\n    </tr>\n    <tr>\n      <th>2020-09-09</th>\n      <td>A</td>\n      <td>NaN</td>\n    </tr>\n    <tr>\n      <th>2020-09-10</th>\n      <td>A</td>\n      <td>NaN</td>\n    </tr>\n    <tr>\n      <th>2020-09-11</th>\n      <td>A</td>\n      <td>NaN</td>\n    </tr>\n    <tr>\n      <th>2020-09-14</th>\n      <td>A</td>\n      <td>NaN</td>\n    </tr>\n    <tr>\n      <th>2020-09-15</th>\n      <td>A</td>\n      <td>NaN</td>\n    </tr>\n    <tr>\n      <th>2020-09-16</th>\n      <td>A</td>\n      <td>61.893458</td>\n    </tr>\n    <tr>\n      <th>2020-09-17</th>\n      <td>A</td>\n      <td>46.374335</td>\n    </tr>\n    <tr>\n      <th>2020-09-18</th>\n      <td>A</td>\n      <td>27.752549</td>\n    </tr>\n    <tr>\n      <th>2020-09-21</th>\n      <td>A</td>\n      <td>22.378370</td>\n    </tr>\n  </tbody>\n</table>\n</div>"
     },
     "metadata": {},
     "execution_count": 9
    }
   ],
   "source": [
    "# Stochastics\n",
    "stoch = stock_final2[['Ticker','High','Low','Close']]\n",
    "stoch1 = pd.DataFrame()\n",
    "stoch1['Ticker'] = stoch['Ticker']\n",
    "stoch1['5-high'] = stoch['High'].rolling(5).max()\n",
    "stoch1['5-low'] = stoch['Low'].rolling(5).min()\n",
    "stoch1['%K'] = (stoch['Close'] - stoch1['5-low'])*100/(stoch1['5-high'] - stoch1['5-low'])\n",
    "stoch1['%D'] = stoch1['%K'].rolling(3).mean()\n",
    "stoch = stoch1.filter(['Date','Ticker','%D'])\n",
    "\n",
    "stoch.head(10)"
   ]
  },
  {
   "cell_type": "code",
   "execution_count": 10,
   "metadata": {},
   "outputs": [],
   "source": [
    "# 200SMA\n",
    "sma_200 = stock_final2[['Ticker','Close']]\n",
    "sma_200_1 = pd.DataFrame()\n",
    "sma_200_1['Ticker'] = sma_200['Ticker']\n",
    "sma_200_1['200SMA'] = sma_200['Close'].rolling(200).mean()\n",
    "sma_200_1['200SMA_diff'] = ((sma_200['Close']/sma_200_1['200SMA'])-1)*100\n",
    "# sma_200_1 = sma_200_1.round({'200SMA_diff': 2})\n",
    "sma_200 = sma_200_1 "
   ]
  },
  {
   "cell_type": "code",
   "execution_count": 11,
   "metadata": {},
   "outputs": [],
   "source": [
    "# 50SMA\n",
    "sma_50 = stock_final2[['Ticker','Close']]\n",
    "sma_50_1 = pd.DataFrame()\n",
    "sma_50_1['Ticker'] = sma_50['Ticker']\n",
    "sma_50_1['50SMA'] = sma_50['Close'].rolling(50).mean()\n",
    "sma_50_1['50SMA_diff'] = ((sma_50['Close']/sma_50_1['50SMA'])-1)*100\n",
    "\n",
    "sma_50 = sma_50_1 "
   ]
  },
  {
   "cell_type": "code",
   "execution_count": 12,
   "metadata": {},
   "outputs": [
    {
     "output_type": "execute_result",
     "data": {
      "text/plain": [
       "          Date Ticker        Open        High         Low       Close  \\\n",
       "0   2021-07-01      A  147.770004  148.369995  147.009995  147.595993   \n",
       "1   2021-07-01    AAL   21.469999   21.790001   21.330000   21.510000   \n",
       "2   2021-07-01    AAP  205.809998  209.179993  204.830002  208.940002   \n",
       "3   2021-07-01   AAPL  136.600006  137.330002  135.759995  137.270004   \n",
       "4   2021-07-01   ABBV  112.949997  114.550003  112.889999  114.260002   \n",
       "..         ...    ...         ...         ...         ...         ...   \n",
       "499 2021-07-01    YUM  115.489998  116.440002  115.360001  116.010002   \n",
       "500 2021-07-01    ZBH  161.500000  163.169998  160.710007  163.139999   \n",
       "501 2021-07-01   ZBRA  530.000000  533.229980  521.020020  532.020020   \n",
       "502 2021-07-01   ZION   53.689999   54.020000   52.919998   53.820000   \n",
       "503 2021-07-01    ZTS  187.000000  189.460007  186.610001  189.289993   \n",
       "\n",
       "       Volume  \n",
       "0     1426500  \n",
       "1    22082700  \n",
       "2      611300  \n",
       "3    52485800  \n",
       "4     5306900  \n",
       "..        ...  \n",
       "499   1847500  \n",
       "500   1136200  \n",
       "501    227500  \n",
       "502   1021100  \n",
       "503   1997200  \n",
       "\n",
       "[504 rows x 7 columns]"
      ],
      "text/html": "<div>\n<style scoped>\n    .dataframe tbody tr th:only-of-type {\n        vertical-align: middle;\n    }\n\n    .dataframe tbody tr th {\n        vertical-align: top;\n    }\n\n    .dataframe thead th {\n        text-align: right;\n    }\n</style>\n<table border=\"1\" class=\"dataframe\">\n  <thead>\n    <tr style=\"text-align: right;\">\n      <th></th>\n      <th>Date</th>\n      <th>Ticker</th>\n      <th>Open</th>\n      <th>High</th>\n      <th>Low</th>\n      <th>Close</th>\n      <th>Volume</th>\n    </tr>\n  </thead>\n  <tbody>\n    <tr>\n      <th>0</th>\n      <td>2021-07-01</td>\n      <td>A</td>\n      <td>147.770004</td>\n      <td>148.369995</td>\n      <td>147.009995</td>\n      <td>147.595993</td>\n      <td>1426500</td>\n    </tr>\n    <tr>\n      <th>1</th>\n      <td>2021-07-01</td>\n      <td>AAL</td>\n      <td>21.469999</td>\n      <td>21.790001</td>\n      <td>21.330000</td>\n      <td>21.510000</td>\n      <td>22082700</td>\n    </tr>\n    <tr>\n      <th>2</th>\n      <td>2021-07-01</td>\n      <td>AAP</td>\n      <td>205.809998</td>\n      <td>209.179993</td>\n      <td>204.830002</td>\n      <td>208.940002</td>\n      <td>611300</td>\n    </tr>\n    <tr>\n      <th>3</th>\n      <td>2021-07-01</td>\n      <td>AAPL</td>\n      <td>136.600006</td>\n      <td>137.330002</td>\n      <td>135.759995</td>\n      <td>137.270004</td>\n      <td>52485800</td>\n    </tr>\n    <tr>\n      <th>4</th>\n      <td>2021-07-01</td>\n      <td>ABBV</td>\n      <td>112.949997</td>\n      <td>114.550003</td>\n      <td>112.889999</td>\n      <td>114.260002</td>\n      <td>5306900</td>\n    </tr>\n    <tr>\n      <th>...</th>\n      <td>...</td>\n      <td>...</td>\n      <td>...</td>\n      <td>...</td>\n      <td>...</td>\n      <td>...</td>\n      <td>...</td>\n    </tr>\n    <tr>\n      <th>499</th>\n      <td>2021-07-01</td>\n      <td>YUM</td>\n      <td>115.489998</td>\n      <td>116.440002</td>\n      <td>115.360001</td>\n      <td>116.010002</td>\n      <td>1847500</td>\n    </tr>\n    <tr>\n      <th>500</th>\n      <td>2021-07-01</td>\n      <td>ZBH</td>\n      <td>161.500000</td>\n      <td>163.169998</td>\n      <td>160.710007</td>\n      <td>163.139999</td>\n      <td>1136200</td>\n    </tr>\n    <tr>\n      <th>501</th>\n      <td>2021-07-01</td>\n      <td>ZBRA</td>\n      <td>530.000000</td>\n      <td>533.229980</td>\n      <td>521.020020</td>\n      <td>532.020020</td>\n      <td>227500</td>\n    </tr>\n    <tr>\n      <th>502</th>\n      <td>2021-07-01</td>\n      <td>ZION</td>\n      <td>53.689999</td>\n      <td>54.020000</td>\n      <td>52.919998</td>\n      <td>53.820000</td>\n      <td>1021100</td>\n    </tr>\n    <tr>\n      <th>503</th>\n      <td>2021-07-01</td>\n      <td>ZTS</td>\n      <td>187.000000</td>\n      <td>189.460007</td>\n      <td>186.610001</td>\n      <td>189.289993</td>\n      <td>1997200</td>\n    </tr>\n  </tbody>\n</table>\n<p>504 rows × 7 columns</p>\n</div>"
     },
     "metadata": {},
     "execution_count": 12
    }
   ],
   "source": [
    "# Lastest stock data\n",
    "stock_final3 = stock_final2.loc['2021-07-01',:]\n",
    "stock_final3 = stock_final3.reset_index()\n",
    "stock_final3"
   ]
  },
  {
   "cell_type": "code",
   "execution_count": 13,
   "metadata": {},
   "outputs": [
    {
     "output_type": "execute_result",
     "data": {
      "text/plain": [
       "           Ticker         %D\n",
       "Date                        \n",
       "2021-07-01      A  65.863305\n",
       "2021-07-01    AAL  19.458205\n",
       "2021-07-01    AAP  80.760146\n",
       "2021-07-01   AAPL  94.275364\n",
       "2021-07-01   ABBV  42.563543\n",
       "...           ...        ...\n",
       "2021-07-01    YUM  22.778266\n",
       "2021-07-01    ZBH  18.040759\n",
       "2021-07-01   ZBRA  84.471533\n",
       "2021-07-01   ZION  22.699624\n",
       "2021-07-01    ZTS  79.102074\n",
       "\n",
       "[504 rows x 2 columns]"
      ],
      "text/html": "<div>\n<style scoped>\n    .dataframe tbody tr th:only-of-type {\n        vertical-align: middle;\n    }\n\n    .dataframe tbody tr th {\n        vertical-align: top;\n    }\n\n    .dataframe thead th {\n        text-align: right;\n    }\n</style>\n<table border=\"1\" class=\"dataframe\">\n  <thead>\n    <tr style=\"text-align: right;\">\n      <th></th>\n      <th>Ticker</th>\n      <th>%D</th>\n    </tr>\n    <tr>\n      <th>Date</th>\n      <th></th>\n      <th></th>\n    </tr>\n  </thead>\n  <tbody>\n    <tr>\n      <th>2021-07-01</th>\n      <td>A</td>\n      <td>65.863305</td>\n    </tr>\n    <tr>\n      <th>2021-07-01</th>\n      <td>AAL</td>\n      <td>19.458205</td>\n    </tr>\n    <tr>\n      <th>2021-07-01</th>\n      <td>AAP</td>\n      <td>80.760146</td>\n    </tr>\n    <tr>\n      <th>2021-07-01</th>\n      <td>AAPL</td>\n      <td>94.275364</td>\n    </tr>\n    <tr>\n      <th>2021-07-01</th>\n      <td>ABBV</td>\n      <td>42.563543</td>\n    </tr>\n    <tr>\n      <th>...</th>\n      <td>...</td>\n      <td>...</td>\n    </tr>\n    <tr>\n      <th>2021-07-01</th>\n      <td>YUM</td>\n      <td>22.778266</td>\n    </tr>\n    <tr>\n      <th>2021-07-01</th>\n      <td>ZBH</td>\n      <td>18.040759</td>\n    </tr>\n    <tr>\n      <th>2021-07-01</th>\n      <td>ZBRA</td>\n      <td>84.471533</td>\n    </tr>\n    <tr>\n      <th>2021-07-01</th>\n      <td>ZION</td>\n      <td>22.699624</td>\n    </tr>\n    <tr>\n      <th>2021-07-01</th>\n      <td>ZTS</td>\n      <td>79.102074</td>\n    </tr>\n  </tbody>\n</table>\n<p>504 rows × 2 columns</p>\n</div>"
     },
     "metadata": {},
     "execution_count": 13
    }
   ],
   "source": [
    "# Lastest stoch data\n",
    "stoch_final = stoch.loc['2021-07-01',:]\n",
    "stoch_final"
   ]
  },
  {
   "cell_type": "code",
   "execution_count": 14,
   "metadata": {},
   "outputs": [
    {
     "output_type": "execute_result",
     "data": {
      "text/plain": [
       "           Ticker      200SMA  200SMA_diff\n",
       "Date                                      \n",
       "2021-07-01      A  121.876796    21.102620\n",
       "2021-07-01    AAL   18.242450    17.911795\n",
       "2021-07-01    AAP  170.631280    22.451172\n",
       "2021-07-01   AAPL  124.962584     9.848884\n",
       "2021-07-01   ABBV  102.822190    11.123875\n",
       "...           ...         ...          ...\n",
       "2021-07-01    YUM  106.962978     8.458089\n",
       "2021-07-01    ZBH  155.640492     4.818481\n",
       "2021-07-01   ZBRA  417.359200    27.472934\n",
       "2021-07-01   ZION   46.673076    15.312734\n",
       "2021-07-01    ZTS  164.568150    15.022253\n",
       "\n",
       "[504 rows x 3 columns]"
      ],
      "text/html": "<div>\n<style scoped>\n    .dataframe tbody tr th:only-of-type {\n        vertical-align: middle;\n    }\n\n    .dataframe tbody tr th {\n        vertical-align: top;\n    }\n\n    .dataframe thead th {\n        text-align: right;\n    }\n</style>\n<table border=\"1\" class=\"dataframe\">\n  <thead>\n    <tr style=\"text-align: right;\">\n      <th></th>\n      <th>Ticker</th>\n      <th>200SMA</th>\n      <th>200SMA_diff</th>\n    </tr>\n    <tr>\n      <th>Date</th>\n      <th></th>\n      <th></th>\n      <th></th>\n    </tr>\n  </thead>\n  <tbody>\n    <tr>\n      <th>2021-07-01</th>\n      <td>A</td>\n      <td>121.876796</td>\n      <td>21.102620</td>\n    </tr>\n    <tr>\n      <th>2021-07-01</th>\n      <td>AAL</td>\n      <td>18.242450</td>\n      <td>17.911795</td>\n    </tr>\n    <tr>\n      <th>2021-07-01</th>\n      <td>AAP</td>\n      <td>170.631280</td>\n      <td>22.451172</td>\n    </tr>\n    <tr>\n      <th>2021-07-01</th>\n      <td>AAPL</td>\n      <td>124.962584</td>\n      <td>9.848884</td>\n    </tr>\n    <tr>\n      <th>2021-07-01</th>\n      <td>ABBV</td>\n      <td>102.822190</td>\n      <td>11.123875</td>\n    </tr>\n    <tr>\n      <th>...</th>\n      <td>...</td>\n      <td>...</td>\n      <td>...</td>\n    </tr>\n    <tr>\n      <th>2021-07-01</th>\n      <td>YUM</td>\n      <td>106.962978</td>\n      <td>8.458089</td>\n    </tr>\n    <tr>\n      <th>2021-07-01</th>\n      <td>ZBH</td>\n      <td>155.640492</td>\n      <td>4.818481</td>\n    </tr>\n    <tr>\n      <th>2021-07-01</th>\n      <td>ZBRA</td>\n      <td>417.359200</td>\n      <td>27.472934</td>\n    </tr>\n    <tr>\n      <th>2021-07-01</th>\n      <td>ZION</td>\n      <td>46.673076</td>\n      <td>15.312734</td>\n    </tr>\n    <tr>\n      <th>2021-07-01</th>\n      <td>ZTS</td>\n      <td>164.568150</td>\n      <td>15.022253</td>\n    </tr>\n  </tbody>\n</table>\n<p>504 rows × 3 columns</p>\n</div>"
     },
     "metadata": {},
     "execution_count": 14
    }
   ],
   "source": [
    "# Lastest 200SMA data\n",
    "sma_200_final = sma_200.loc['2021-07-01',:]\n",
    "sma_200_final"
   ]
  },
  {
   "cell_type": "code",
   "execution_count": 15,
   "metadata": {},
   "outputs": [
    {
     "output_type": "execute_result",
     "data": {
      "text/plain": [
       "           Ticker       50SMA  50SMA_diff\n",
       "Date                                     \n",
       "2021-07-01      A  137.734760    7.159582\n",
       "2021-07-01    AAL   22.571400   -4.702410\n",
       "2021-07-01    AAP  197.913661    5.571288\n",
       "2021-07-01   AAPL  129.269353    6.189132\n",
       "2021-07-01   ABBV  114.101200    0.139176\n",
       "...           ...         ...         ...\n",
       "2021-07-01    YUM  118.241469   -1.887211\n",
       "2021-07-01    ZBH  166.171865   -1.824536\n",
       "2021-07-01   ZBRA  498.506202    6.722849\n",
       "2021-07-01   ZION   56.046678   -3.972900\n",
       "2021-07-01    ZTS  177.026601    6.927429\n",
       "\n",
       "[504 rows x 3 columns]"
      ],
      "text/html": "<div>\n<style scoped>\n    .dataframe tbody tr th:only-of-type {\n        vertical-align: middle;\n    }\n\n    .dataframe tbody tr th {\n        vertical-align: top;\n    }\n\n    .dataframe thead th {\n        text-align: right;\n    }\n</style>\n<table border=\"1\" class=\"dataframe\">\n  <thead>\n    <tr style=\"text-align: right;\">\n      <th></th>\n      <th>Ticker</th>\n      <th>50SMA</th>\n      <th>50SMA_diff</th>\n    </tr>\n    <tr>\n      <th>Date</th>\n      <th></th>\n      <th></th>\n      <th></th>\n    </tr>\n  </thead>\n  <tbody>\n    <tr>\n      <th>2021-07-01</th>\n      <td>A</td>\n      <td>137.734760</td>\n      <td>7.159582</td>\n    </tr>\n    <tr>\n      <th>2021-07-01</th>\n      <td>AAL</td>\n      <td>22.571400</td>\n      <td>-4.702410</td>\n    </tr>\n    <tr>\n      <th>2021-07-01</th>\n      <td>AAP</td>\n      <td>197.913661</td>\n      <td>5.571288</td>\n    </tr>\n    <tr>\n      <th>2021-07-01</th>\n      <td>AAPL</td>\n      <td>129.269353</td>\n      <td>6.189132</td>\n    </tr>\n    <tr>\n      <th>2021-07-01</th>\n      <td>ABBV</td>\n      <td>114.101200</td>\n      <td>0.139176</td>\n    </tr>\n    <tr>\n      <th>...</th>\n      <td>...</td>\n      <td>...</td>\n      <td>...</td>\n    </tr>\n    <tr>\n      <th>2021-07-01</th>\n      <td>YUM</td>\n      <td>118.241469</td>\n      <td>-1.887211</td>\n    </tr>\n    <tr>\n      <th>2021-07-01</th>\n      <td>ZBH</td>\n      <td>166.171865</td>\n      <td>-1.824536</td>\n    </tr>\n    <tr>\n      <th>2021-07-01</th>\n      <td>ZBRA</td>\n      <td>498.506202</td>\n      <td>6.722849</td>\n    </tr>\n    <tr>\n      <th>2021-07-01</th>\n      <td>ZION</td>\n      <td>56.046678</td>\n      <td>-3.972900</td>\n    </tr>\n    <tr>\n      <th>2021-07-01</th>\n      <td>ZTS</td>\n      <td>177.026601</td>\n      <td>6.927429</td>\n    </tr>\n  </tbody>\n</table>\n<p>504 rows × 3 columns</p>\n</div>"
     },
     "metadata": {},
     "execution_count": 15
    }
   ],
   "source": [
    "# Lastest 50SMA data\n",
    "sma_50_final = sma_50.loc['2021-07-01',:]\n",
    "sma_50_final"
   ]
  },
  {
   "cell_type": "code",
   "execution_count": 16,
   "metadata": {},
   "outputs": [
    {
     "output_type": "execute_result",
     "data": {
      "text/plain": [
       "           Ticker       SCTR  Decile_rank\n",
       "Date                                     \n",
       "2021-07-01      A  21.262916        83.89\n",
       "2021-07-01    AAL   2.047167        15.70\n",
       "2021-07-01    AAP  27.323108        95.42\n",
       "2021-07-01   AAPL  10.994490        47.31\n",
       "2021-07-01   ABBV   9.420841        40.75\n",
       "...           ...        ...          ...\n",
       "2021-07-01    YUM   8.317062        37.77\n",
       "2021-07-01    ZBH   8.909725        39.96\n",
       "2021-07-01   ZBRA  27.318488        95.22\n",
       "2021-07-01   ZION  -2.445152         7.55\n",
       "2021-07-01    ZTS  18.377662        75.34\n",
       "\n",
       "[504 rows x 3 columns]"
      ],
      "text/html": "<div>\n<style scoped>\n    .dataframe tbody tr th:only-of-type {\n        vertical-align: middle;\n    }\n\n    .dataframe tbody tr th {\n        vertical-align: top;\n    }\n\n    .dataframe thead th {\n        text-align: right;\n    }\n</style>\n<table border=\"1\" class=\"dataframe\">\n  <thead>\n    <tr style=\"text-align: right;\">\n      <th></th>\n      <th>Ticker</th>\n      <th>SCTR</th>\n      <th>Decile_rank</th>\n    </tr>\n    <tr>\n      <th>Date</th>\n      <th></th>\n      <th></th>\n      <th></th>\n    </tr>\n  </thead>\n  <tbody>\n    <tr>\n      <th>2021-07-01</th>\n      <td>A</td>\n      <td>21.262916</td>\n      <td>83.89</td>\n    </tr>\n    <tr>\n      <th>2021-07-01</th>\n      <td>AAL</td>\n      <td>2.047167</td>\n      <td>15.70</td>\n    </tr>\n    <tr>\n      <th>2021-07-01</th>\n      <td>AAP</td>\n      <td>27.323108</td>\n      <td>95.42</td>\n    </tr>\n    <tr>\n      <th>2021-07-01</th>\n      <td>AAPL</td>\n      <td>10.994490</td>\n      <td>47.31</td>\n    </tr>\n    <tr>\n      <th>2021-07-01</th>\n      <td>ABBV</td>\n      <td>9.420841</td>\n      <td>40.75</td>\n    </tr>\n    <tr>\n      <th>...</th>\n      <td>...</td>\n      <td>...</td>\n      <td>...</td>\n    </tr>\n    <tr>\n      <th>2021-07-01</th>\n      <td>YUM</td>\n      <td>8.317062</td>\n      <td>37.77</td>\n    </tr>\n    <tr>\n      <th>2021-07-01</th>\n      <td>ZBH</td>\n      <td>8.909725</td>\n      <td>39.96</td>\n    </tr>\n    <tr>\n      <th>2021-07-01</th>\n      <td>ZBRA</td>\n      <td>27.318488</td>\n      <td>95.22</td>\n    </tr>\n    <tr>\n      <th>2021-07-01</th>\n      <td>ZION</td>\n      <td>-2.445152</td>\n      <td>7.55</td>\n    </tr>\n    <tr>\n      <th>2021-07-01</th>\n      <td>ZTS</td>\n      <td>18.377662</td>\n      <td>75.34</td>\n    </tr>\n  </tbody>\n</table>\n<p>504 rows × 3 columns</p>\n</div>"
     },
     "metadata": {},
     "execution_count": 16
    }
   ],
   "source": [
    "# Lastest sctr data\n",
    "sctr_final = sctr.loc['2021-07-01',:]\n",
    "sctr_final1= pd.DataFrame()\n",
    "sctr_final1['Ticker'] = sctr_final['Ticker']\n",
    "sctr_final1['SCTR'] = sctr_final['SCTR']\n",
    "sctr_final1['Decile_rank'] = pd.qcut(sctr_final['SCTR'],  10000,\n",
    "                            labels = False) /100\n",
    "\n",
    "sctr_final = sctr_final1\n",
    "sctr_final"
   ]
  },
  {
   "cell_type": "code",
   "execution_count": 17,
   "metadata": {},
   "outputs": [
    {
     "output_type": "execute_result",
     "data": {
      "text/plain": [
       "          Date Ticker        Open        High         Low       Close  \\\n",
       "0   2021-07-01      A  147.770004  148.369995  147.009995  147.595993   \n",
       "1   2021-07-01    AAL   21.469999   21.790001   21.330000   21.510000   \n",
       "2   2021-07-01    AAP  205.809998  209.179993  204.830002  208.940002   \n",
       "3   2021-07-01   AAPL  136.600006  137.330002  135.759995  137.270004   \n",
       "4   2021-07-01   ABBV  112.949997  114.550003  112.889999  114.260002   \n",
       "..         ...    ...         ...         ...         ...         ...   \n",
       "499 2021-07-01    YUM  115.489998  116.440002  115.360001  116.010002   \n",
       "500 2021-07-01    ZBH  161.500000  163.169998  160.710007  163.139999   \n",
       "501 2021-07-01   ZBRA  530.000000  533.229980  521.020020  532.020020   \n",
       "502 2021-07-01   ZION   53.689999   54.020000   52.919998   53.820000   \n",
       "503 2021-07-01    ZTS  187.000000  189.460007  186.610001  189.289993   \n",
       "\n",
       "       Volume       SCTR  Decile_rank         %D       50SMA  50SMA_diff  \\\n",
       "0     1426500  21.262916        83.89  65.863305  137.734760    7.159582   \n",
       "1    22082700   2.047167        15.70  19.458205   22.571400   -4.702410   \n",
       "2      611300  27.323108        95.42  80.760146  197.913661    5.571288   \n",
       "3    52485800  10.994490        47.31  94.275364  129.269353    6.189132   \n",
       "4     5306900   9.420841        40.75  42.563543  114.101200    0.139176   \n",
       "..        ...        ...          ...        ...         ...         ...   \n",
       "499   1847500   8.317062        37.77  22.778266  118.241469   -1.887211   \n",
       "500   1136200   8.909725        39.96  18.040759  166.171865   -1.824536   \n",
       "501    227500  27.318488        95.22  84.471533  498.506202    6.722849   \n",
       "502   1021100  -2.445152         7.55  22.699624   56.046678   -3.972900   \n",
       "503   1997200  18.377662        75.34  79.102074  177.026601    6.927429   \n",
       "\n",
       "         200SMA  200SMA_diff  \n",
       "0    121.876796    21.102620  \n",
       "1     18.242450    17.911795  \n",
       "2    170.631280    22.451172  \n",
       "3    124.962584     9.848884  \n",
       "4    102.822190    11.123875  \n",
       "..          ...          ...  \n",
       "499  106.962978     8.458089  \n",
       "500  155.640492     4.818481  \n",
       "501  417.359200    27.472934  \n",
       "502   46.673076    15.312734  \n",
       "503  164.568150    15.022253  \n",
       "\n",
       "[504 rows x 14 columns]"
      ],
      "text/html": "<div>\n<style scoped>\n    .dataframe tbody tr th:only-of-type {\n        vertical-align: middle;\n    }\n\n    .dataframe tbody tr th {\n        vertical-align: top;\n    }\n\n    .dataframe thead th {\n        text-align: right;\n    }\n</style>\n<table border=\"1\" class=\"dataframe\">\n  <thead>\n    <tr style=\"text-align: right;\">\n      <th></th>\n      <th>Date</th>\n      <th>Ticker</th>\n      <th>Open</th>\n      <th>High</th>\n      <th>Low</th>\n      <th>Close</th>\n      <th>Volume</th>\n      <th>SCTR</th>\n      <th>Decile_rank</th>\n      <th>%D</th>\n      <th>50SMA</th>\n      <th>50SMA_diff</th>\n      <th>200SMA</th>\n      <th>200SMA_diff</th>\n    </tr>\n  </thead>\n  <tbody>\n    <tr>\n      <th>0</th>\n      <td>2021-07-01</td>\n      <td>A</td>\n      <td>147.770004</td>\n      <td>148.369995</td>\n      <td>147.009995</td>\n      <td>147.595993</td>\n      <td>1426500</td>\n      <td>21.262916</td>\n      <td>83.89</td>\n      <td>65.863305</td>\n      <td>137.734760</td>\n      <td>7.159582</td>\n      <td>121.876796</td>\n      <td>21.102620</td>\n    </tr>\n    <tr>\n      <th>1</th>\n      <td>2021-07-01</td>\n      <td>AAL</td>\n      <td>21.469999</td>\n      <td>21.790001</td>\n      <td>21.330000</td>\n      <td>21.510000</td>\n      <td>22082700</td>\n      <td>2.047167</td>\n      <td>15.70</td>\n      <td>19.458205</td>\n      <td>22.571400</td>\n      <td>-4.702410</td>\n      <td>18.242450</td>\n      <td>17.911795</td>\n    </tr>\n    <tr>\n      <th>2</th>\n      <td>2021-07-01</td>\n      <td>AAP</td>\n      <td>205.809998</td>\n      <td>209.179993</td>\n      <td>204.830002</td>\n      <td>208.940002</td>\n      <td>611300</td>\n      <td>27.323108</td>\n      <td>95.42</td>\n      <td>80.760146</td>\n      <td>197.913661</td>\n      <td>5.571288</td>\n      <td>170.631280</td>\n      <td>22.451172</td>\n    </tr>\n    <tr>\n      <th>3</th>\n      <td>2021-07-01</td>\n      <td>AAPL</td>\n      <td>136.600006</td>\n      <td>137.330002</td>\n      <td>135.759995</td>\n      <td>137.270004</td>\n      <td>52485800</td>\n      <td>10.994490</td>\n      <td>47.31</td>\n      <td>94.275364</td>\n      <td>129.269353</td>\n      <td>6.189132</td>\n      <td>124.962584</td>\n      <td>9.848884</td>\n    </tr>\n    <tr>\n      <th>4</th>\n      <td>2021-07-01</td>\n      <td>ABBV</td>\n      <td>112.949997</td>\n      <td>114.550003</td>\n      <td>112.889999</td>\n      <td>114.260002</td>\n      <td>5306900</td>\n      <td>9.420841</td>\n      <td>40.75</td>\n      <td>42.563543</td>\n      <td>114.101200</td>\n      <td>0.139176</td>\n      <td>102.822190</td>\n      <td>11.123875</td>\n    </tr>\n    <tr>\n      <th>...</th>\n      <td>...</td>\n      <td>...</td>\n      <td>...</td>\n      <td>...</td>\n      <td>...</td>\n      <td>...</td>\n      <td>...</td>\n      <td>...</td>\n      <td>...</td>\n      <td>...</td>\n      <td>...</td>\n      <td>...</td>\n      <td>...</td>\n      <td>...</td>\n    </tr>\n    <tr>\n      <th>499</th>\n      <td>2021-07-01</td>\n      <td>YUM</td>\n      <td>115.489998</td>\n      <td>116.440002</td>\n      <td>115.360001</td>\n      <td>116.010002</td>\n      <td>1847500</td>\n      <td>8.317062</td>\n      <td>37.77</td>\n      <td>22.778266</td>\n      <td>118.241469</td>\n      <td>-1.887211</td>\n      <td>106.962978</td>\n      <td>8.458089</td>\n    </tr>\n    <tr>\n      <th>500</th>\n      <td>2021-07-01</td>\n      <td>ZBH</td>\n      <td>161.500000</td>\n      <td>163.169998</td>\n      <td>160.710007</td>\n      <td>163.139999</td>\n      <td>1136200</td>\n      <td>8.909725</td>\n      <td>39.96</td>\n      <td>18.040759</td>\n      <td>166.171865</td>\n      <td>-1.824536</td>\n      <td>155.640492</td>\n      <td>4.818481</td>\n    </tr>\n    <tr>\n      <th>501</th>\n      <td>2021-07-01</td>\n      <td>ZBRA</td>\n      <td>530.000000</td>\n      <td>533.229980</td>\n      <td>521.020020</td>\n      <td>532.020020</td>\n      <td>227500</td>\n      <td>27.318488</td>\n      <td>95.22</td>\n      <td>84.471533</td>\n      <td>498.506202</td>\n      <td>6.722849</td>\n      <td>417.359200</td>\n      <td>27.472934</td>\n    </tr>\n    <tr>\n      <th>502</th>\n      <td>2021-07-01</td>\n      <td>ZION</td>\n      <td>53.689999</td>\n      <td>54.020000</td>\n      <td>52.919998</td>\n      <td>53.820000</td>\n      <td>1021100</td>\n      <td>-2.445152</td>\n      <td>7.55</td>\n      <td>22.699624</td>\n      <td>56.046678</td>\n      <td>-3.972900</td>\n      <td>46.673076</td>\n      <td>15.312734</td>\n    </tr>\n    <tr>\n      <th>503</th>\n      <td>2021-07-01</td>\n      <td>ZTS</td>\n      <td>187.000000</td>\n      <td>189.460007</td>\n      <td>186.610001</td>\n      <td>189.289993</td>\n      <td>1997200</td>\n      <td>18.377662</td>\n      <td>75.34</td>\n      <td>79.102074</td>\n      <td>177.026601</td>\n      <td>6.927429</td>\n      <td>164.568150</td>\n      <td>15.022253</td>\n    </tr>\n  </tbody>\n</table>\n<p>504 rows × 14 columns</p>\n</div>"
     },
     "metadata": {},
     "execution_count": 17
    }
   ],
   "source": [
    "# Combine table\n",
    "combined_df = stock_final3.merge(sctr_final, on='Ticker', how='outer')\n",
    "combined_df = combined_df.merge(stoch_final, on='Ticker', how='outer')\n",
    "combined_df = combined_df.merge(sma_50_final, on='Ticker', how='outer')\n",
    "combined_df = combined_df.merge(sma_200_final, on='Ticker', how='outer')\n",
    "combined_df"
   ]
  },
  {
   "cell_type": "code",
   "execution_count": 18,
   "metadata": {},
   "outputs": [
    {
     "output_type": "execute_result",
     "data": {
      "text/plain": [
       "          Date Ticker        Open        High         Low       Close  \\\n",
       "105 2021-07-01    COF  155.529999  158.059998  155.130005  157.149994   \n",
       "324 2021-07-01   NDAQ  177.889999  177.889999  175.800003  176.029999   \n",
       "496 2021-07-01    XOM   64.330002   64.419998   62.770000   63.259998   \n",
       "\n",
       "         Volume       SCTR  Decile_rank         %D       50SMA  50SMA_diff  \\\n",
       "105   3,354,200  32.781971        98.01  19.642237  155.743391    0.903154   \n",
       "324   1,123,500  25.265976        92.44  14.809127  167.487139    5.100607   \n",
       "496  22,530,300  24.369386        91.05  19.782157   60.483953    4.589722   \n",
       "\n",
       "         200SMA  200SMA_diff  \n",
       "105  114.991339    36.662461  \n",
       "324  142.932693    23.155868  \n",
       "496   48.047434    31.661553  "
      ],
      "text/html": "<div>\n<style scoped>\n    .dataframe tbody tr th:only-of-type {\n        vertical-align: middle;\n    }\n\n    .dataframe tbody tr th {\n        vertical-align: top;\n    }\n\n    .dataframe thead th {\n        text-align: right;\n    }\n</style>\n<table border=\"1\" class=\"dataframe\">\n  <thead>\n    <tr style=\"text-align: right;\">\n      <th></th>\n      <th>Date</th>\n      <th>Ticker</th>\n      <th>Open</th>\n      <th>High</th>\n      <th>Low</th>\n      <th>Close</th>\n      <th>Volume</th>\n      <th>SCTR</th>\n      <th>Decile_rank</th>\n      <th>%D</th>\n      <th>50SMA</th>\n      <th>50SMA_diff</th>\n      <th>200SMA</th>\n      <th>200SMA_diff</th>\n    </tr>\n  </thead>\n  <tbody>\n    <tr>\n      <th>105</th>\n      <td>2021-07-01</td>\n      <td>COF</td>\n      <td>155.529999</td>\n      <td>158.059998</td>\n      <td>155.130005</td>\n      <td>157.149994</td>\n      <td>3,354,200</td>\n      <td>32.781971</td>\n      <td>98.01</td>\n      <td>19.642237</td>\n      <td>155.743391</td>\n      <td>0.903154</td>\n      <td>114.991339</td>\n      <td>36.662461</td>\n    </tr>\n    <tr>\n      <th>324</th>\n      <td>2021-07-01</td>\n      <td>NDAQ</td>\n      <td>177.889999</td>\n      <td>177.889999</td>\n      <td>175.800003</td>\n      <td>176.029999</td>\n      <td>1,123,500</td>\n      <td>25.265976</td>\n      <td>92.44</td>\n      <td>14.809127</td>\n      <td>167.487139</td>\n      <td>5.100607</td>\n      <td>142.932693</td>\n      <td>23.155868</td>\n    </tr>\n    <tr>\n      <th>496</th>\n      <td>2021-07-01</td>\n      <td>XOM</td>\n      <td>64.330002</td>\n      <td>64.419998</td>\n      <td>62.770000</td>\n      <td>63.259998</td>\n      <td>22,530,300</td>\n      <td>24.369386</td>\n      <td>91.05</td>\n      <td>19.782157</td>\n      <td>60.483953</td>\n      <td>4.589722</td>\n      <td>48.047434</td>\n      <td>31.661553</td>\n    </tr>\n  </tbody>\n</table>\n</div>"
     },
     "metadata": {},
     "execution_count": 18
    }
   ],
   "source": [
    "# Filter potentials\n",
    "\n",
    "# Stoch Filter\n",
    "combined_df_filtered = combined_df.loc[combined_df['%D'] <=20]\n",
    "# 200 SMA filter\n",
    "combined_df_filtered = combined_df_filtered.loc[combined_df_filtered['200SMA_diff'] > 0]\n",
    "# SCTR filter\n",
    "combined_df_filtered = combined_df_filtered.loc[combined_df_filtered['Decile_rank'] > 90]\n",
    "# Vol filter\n",
    "combined_df_filtered = combined_df_filtered.loc[combined_df_filtered['Volume'] > 500000]\n",
    "# Rank ticker based on SCTR\n",
    "combined_df_filtered = combined_df_filtered.sort_values(by=['SCTR'], ascending=False)\n",
    "combined_df_filtered['Volume'] = combined_df_filtered.apply(lambda combined_df_filtered: \"{:,}\".format(combined_df_filtered['Volume']), axis=1)\n",
    "combined_df_filtered"
   ]
  },
  {
   "cell_type": "code",
   "execution_count": 19,
   "metadata": {},
   "outputs": [],
   "source": [
    "shortlist = combined_df_filtered['Ticker'].to_numpy()"
   ]
  },
  {
   "cell_type": "code",
   "execution_count": 20,
   "metadata": {},
   "outputs": [],
   "source": [
    "import os\n",
    "\n",
    "shortlist_date = date.today()\n",
    "shortlist_date = shortlist_date.strftime(\"%Y-%m-%d\")\n",
    "\n",
    "if not os.path.exists('asset/' + shortlist_date):\n",
    "    os.makedirs('asset/' + shortlist_date)"
   ]
  },
  {
   "cell_type": "code",
   "execution_count": 21,
   "metadata": {},
   "outputs": [],
   "source": [
    "from finvizfinance.quote import finvizfinance\n",
    "\n",
    "for i in shortlist:\n",
    "    stock = finvizfinance(i)\n",
    "    stock.TickerCharts(out_dir='asset/' + shortlist_date)"
   ]
  },
  {
   "cell_type": "code",
   "execution_count": 22,
   "metadata": {},
   "outputs": [],
   "source": [
    "# from IPython.display import Image\n",
    "\n",
    "# ticker_lookup = input(\"Enter Ticker:\")\n",
    "# ticker_lookup = ticker_lookup.upper()\n",
    "\n",
    "# Image(filename='asset/' + shortlist_date + '/' + ticker_lookup + '.jpg')"
   ]
  },
  {
   "cell_type": "code",
   "execution_count": 23,
   "metadata": {},
   "outputs": [
    {
     "output_type": "display_data",
     "data": {
      "image/jpeg": "[encoded data removed]",
      "text/plain": "<IPython.core.display.Image object>"
     },
     "metadata": {}
    },
    {
     "output_type": "display_data",
     "data": {
      "image/jpeg": "[encoded data removed]",
      "text/plain": "<IPython.core.display.Image object>"
     },
     "metadata": {}
    },
    {
     "output_type": "display_data",
     "data": {
      "image/jpeg": "[encoded data removed]",
      "text/plain": "<IPython.core.display.Image object>"
     },
     "metadata": {}
    }
   ],
   "source": [
    "from IPython.display import Image\n",
    "\n",
    "for i in shortlist:\n",
    "    img = Image(filename='asset/' + shortlist_date + '/' + i + '.jpg')\n",
    "    display(img)"
   ]
  }
 ]
}