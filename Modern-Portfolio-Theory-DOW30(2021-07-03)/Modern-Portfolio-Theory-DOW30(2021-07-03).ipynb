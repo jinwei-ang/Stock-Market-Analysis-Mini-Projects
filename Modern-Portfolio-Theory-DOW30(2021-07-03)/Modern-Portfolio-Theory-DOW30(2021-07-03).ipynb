{
 "metadata": {
  "language_info": {
   "codemirror_mode": {
    "name": "ipython",
    "version": 3
   },
   "file_extension": ".py",
   "mimetype": "text/x-python",
   "name": "python",
   "nbconvert_exporter": "python",
   "pygments_lexer": "ipython3",
   "version": "3.9.4"
  },
  "orig_nbformat": 4,
  "kernelspec": {
   "name": "python3",
   "display_name": "Python 3.9.4 64-bit"
  },
  "interpreter": {
   "hash": "ee5cc6fef2d70a7e71ee3826687cbd150f18158e0b1eef11d4f4f92bb920e304"
  }
 },
 "nbformat": 4,
 "nbformat_minor": 2,
 "cells": [
  {
   "cell_type": "code",
   "execution_count": 1,
   "metadata": {},
   "outputs": [],
   "source": [
    "import yfinance as yf\n",
    "from datetime import date,datetime,timedelta\n",
    "from empyrical import alpha_beta\n",
    "from pypfopt.efficient_frontier import EfficientFrontier\n",
    "from pypfopt import risk_models\n",
    "from pypfopt import expected_returns\n",
    "from pypfopt import discrete_allocation\n",
    "from pypfopt.cla import CLA\n",
    "from pypfopt import discrete_allocation\n",
    "import pypfopt.plotting as pplt\n",
    "# import matplotlib as pyplot\n",
    "from matplotlib.ticker import FuncFormatter\n",
    "import numpy as np\n",
    "import pandas as pd"
   ]
  },
  {
   "cell_type": "code",
   "execution_count": 2,
   "metadata": {},
   "outputs": [],
   "source": [
    "# Import ticker list for S&P500\n",
    "\n",
    "import yahoo_fin.stock_info as si\n",
    "\n",
    "tickers = si.tickers_dow()"
   ]
  },
  {
   "cell_type": "code",
   "execution_count": 3,
   "metadata": {},
   "outputs": [
    {
     "output_type": "stream",
     "name": "stdout",
     "text": [
      "[*********************100%***********************]  1 of 1 completed\n",
      "[*********************100%***********************]  1 of 1 completed\n",
      "[*********************100%***********************]  1 of 1 completed\n",
      "[*********************100%***********************]  1 of 1 completed\n",
      "[*********************100%***********************]  1 of 1 completed\n",
      "[*********************100%***********************]  1 of 1 completed\n",
      "[*********************100%***********************]  1 of 1 completed\n",
      "[*********************100%***********************]  1 of 1 completed\n",
      "[*********************100%***********************]  1 of 1 completed\n",
      "[*********************100%***********************]  1 of 1 completed\n",
      "[*********************100%***********************]  1 of 1 completed\n",
      "[*********************100%***********************]  1 of 1 completed\n",
      "[*********************100%***********************]  1 of 1 completed\n",
      "[*********************100%***********************]  1 of 1 completed\n",
      "[*********************100%***********************]  1 of 1 completed\n",
      "[*********************100%***********************]  1 of 1 completed\n",
      "[*********************100%***********************]  1 of 1 completed\n",
      "[*********************100%***********************]  1 of 1 completed\n",
      "[*********************100%***********************]  1 of 1 completed\n",
      "[*********************100%***********************]  1 of 1 completed\n",
      "[*********************100%***********************]  1 of 1 completed\n",
      "[*********************100%***********************]  1 of 1 completed\n",
      "[*********************100%***********************]  1 of 1 completed\n",
      "[*********************100%***********************]  1 of 1 completed\n",
      "[*********************100%***********************]  1 of 1 completed\n",
      "[*********************100%***********************]  1 of 1 completed\n",
      "[*********************100%***********************]  1 of 1 completed\n",
      "[*********************100%***********************]  1 of 1 completed\n",
      "[*********************100%***********************]  1 of 1 completed\n",
      "[*********************100%***********************]  1 of 1 completed\n"
     ]
    },
    {
     "output_type": "execute_result",
     "data": {
      "text/plain": [
       "                 AAPL        AMGN         AXP          BA         CAT  \\\n",
       "Date                                                                    \n",
       "2020-02-19  80.146545  215.376068  133.770798  338.299988  132.482697   \n",
       "2020-02-20  79.324333  214.583969  133.428894  336.279999  132.550476   \n",
       "2020-02-21  77.528809  215.211838  131.787643  330.380005  132.821533   \n",
       "2020-02-24  73.846161  210.468887  125.232452  317.899994  127.942711   \n",
       "2020-02-25  71.344841  203.223984  118.110626  304.140015  124.874100   \n",
       "\n",
       "                   CRM       CSCO         CVX         DIS        DOW  ...  \\\n",
       "Date                                                                  ...   \n",
       "2020-02-19  192.869995  44.092644  103.284492  141.300003  43.769421  ...   \n",
       "2020-02-20  193.360001  44.626053  102.417107  140.369995  44.873775  ...   \n",
       "2020-02-21  189.500000  44.102165  101.670975  138.970001  44.450439  ...   \n",
       "2020-02-24  185.940002  41.911346   97.660461  133.009995  42.554626  ...   \n",
       "2020-02-25  181.270004  40.711159   93.929756  128.190002  40.447140  ...   \n",
       "\n",
       "                  MRK        MSFT         NKE          PG         TRV  \\\n",
       "Date                                                                    \n",
       "2020-02-19  74.535210  184.968872  101.082893  121.627335  129.477417   \n",
       "2020-02-20  74.980606  182.144180  101.151947  122.732689  128.967255   \n",
       "2020-02-21  74.844254  176.386124   98.902603  122.849030  130.103119   \n",
       "2020-02-24  73.926201  168.781143   94.620934  119.552376  129.102020   \n",
       "2020-02-25  72.962700  165.995956   91.651390  117.739204  125.896606   \n",
       "\n",
       "                   UNH           V         VZ        WBA         WMT  \n",
       "Date                                                                  \n",
       "2020-02-19  298.211243  211.675507  55.170254  49.402943  114.815613  \n",
       "2020-02-20  295.105164  209.829773  55.047066  49.213188  114.825378  \n",
       "2020-02-21  294.421448  207.209991  55.151302  48.814705  115.693718  \n",
       "2020-02-24  271.331085  197.266769  54.952305  46.518654  113.488724  \n",
       "2020-02-25  257.265930  186.956390  54.127872  45.076511  111.605698  \n",
       "\n",
       "[5 rows x 30 columns]"
      ],
      "text/html": "<div>\n<style scoped>\n    .dataframe tbody tr th:only-of-type {\n        vertical-align: middle;\n    }\n\n    .dataframe tbody tr th {\n        vertical-align: top;\n    }\n\n    .dataframe thead th {\n        text-align: right;\n    }\n</style>\n<table border=\"1\" class=\"dataframe\">\n  <thead>\n    <tr style=\"text-align: right;\">\n      <th></th>\n      <th>AAPL</th>\n      <th>AMGN</th>\n      <th>AXP</th>\n      <th>BA</th>\n      <th>CAT</th>\n      <th>CRM</th>\n      <th>CSCO</th>\n      <th>CVX</th>\n      <th>DIS</th>\n      <th>DOW</th>\n      <th>...</th>\n      <th>MRK</th>\n      <th>MSFT</th>\n      <th>NKE</th>\n      <th>PG</th>\n      <th>TRV</th>\n      <th>UNH</th>\n      <th>V</th>\n      <th>VZ</th>\n      <th>WBA</th>\n      <th>WMT</th>\n    </tr>\n    <tr>\n      <th>Date</th>\n      <th></th>\n      <th></th>\n      <th></th>\n      <th></th>\n      <th></th>\n      <th></th>\n      <th></th>\n      <th></th>\n      <th></th>\n      <th></th>\n      <th></th>\n      <th></th>\n      <th></th>\n      <th></th>\n      <th></th>\n      <th></th>\n      <th></th>\n      <th></th>\n      <th></th>\n      <th></th>\n      <th></th>\n    </tr>\n  </thead>\n  <tbody>\n    <tr>\n      <th>2020-02-19</th>\n      <td>80.146545</td>\n      <td>215.376068</td>\n      <td>133.770798</td>\n      <td>338.299988</td>\n      <td>132.482697</td>\n      <td>192.869995</td>\n      <td>44.092644</td>\n      <td>103.284492</td>\n      <td>141.300003</td>\n      <td>43.769421</td>\n      <td>...</td>\n      <td>74.535210</td>\n      <td>184.968872</td>\n      <td>101.082893</td>\n      <td>121.627335</td>\n      <td>129.477417</td>\n      <td>298.211243</td>\n      <td>211.675507</td>\n      <td>55.170254</td>\n      <td>49.402943</td>\n      <td>114.815613</td>\n    </tr>\n    <tr>\n      <th>2020-02-20</th>\n      <td>79.324333</td>\n      <td>214.583969</td>\n      <td>133.428894</td>\n      <td>336.279999</td>\n      <td>132.550476</td>\n      <td>193.360001</td>\n      <td>44.626053</td>\n      <td>102.417107</td>\n      <td>140.369995</td>\n      <td>44.873775</td>\n      <td>...</td>\n      <td>74.980606</td>\n      <td>182.144180</td>\n      <td>101.151947</td>\n      <td>122.732689</td>\n      <td>128.967255</td>\n      <td>295.105164</td>\n      <td>209.829773</td>\n      <td>55.047066</td>\n      <td>49.213188</td>\n      <td>114.825378</td>\n    </tr>\n    <tr>\n      <th>2020-02-21</th>\n      <td>77.528809</td>\n      <td>215.211838</td>\n      <td>131.787643</td>\n      <td>330.380005</td>\n      <td>132.821533</td>\n      <td>189.500000</td>\n      <td>44.102165</td>\n      <td>101.670975</td>\n      <td>138.970001</td>\n      <td>44.450439</td>\n      <td>...</td>\n      <td>74.844254</td>\n      <td>176.386124</td>\n      <td>98.902603</td>\n      <td>122.849030</td>\n      <td>130.103119</td>\n      <td>294.421448</td>\n      <td>207.209991</td>\n      <td>55.151302</td>\n      <td>48.814705</td>\n      <td>115.693718</td>\n    </tr>\n    <tr>\n      <th>2020-02-24</th>\n      <td>73.846161</td>\n      <td>210.468887</td>\n      <td>125.232452</td>\n      <td>317.899994</td>\n      <td>127.942711</td>\n      <td>185.940002</td>\n      <td>41.911346</td>\n      <td>97.660461</td>\n      <td>133.009995</td>\n      <td>42.554626</td>\n      <td>...</td>\n      <td>73.926201</td>\n      <td>168.781143</td>\n      <td>94.620934</td>\n      <td>119.552376</td>\n      <td>129.102020</td>\n      <td>271.331085</td>\n      <td>197.266769</td>\n      <td>54.952305</td>\n      <td>46.518654</td>\n      <td>113.488724</td>\n    </tr>\n    <tr>\n      <th>2020-02-25</th>\n      <td>71.344841</td>\n      <td>203.223984</td>\n      <td>118.110626</td>\n      <td>304.140015</td>\n      <td>124.874100</td>\n      <td>181.270004</td>\n      <td>40.711159</td>\n      <td>93.929756</td>\n      <td>128.190002</td>\n      <td>40.447140</td>\n      <td>...</td>\n      <td>72.962700</td>\n      <td>165.995956</td>\n      <td>91.651390</td>\n      <td>117.739204</td>\n      <td>125.896606</td>\n      <td>257.265930</td>\n      <td>186.956390</td>\n      <td>54.127872</td>\n      <td>45.076511</td>\n      <td>111.605698</td>\n    </tr>\n  </tbody>\n</table>\n<p>5 rows × 30 columns</p>\n</div>"
     },
     "metadata": {},
     "execution_count": 3
    }
   ],
   "source": [
    "thelen = len(tickers)\n",
    "\n",
    "price_data = []\n",
    "\n",
    "for ticker in tickers:\n",
    "    start_date1 = date.today()-timedelta(days=(500))\n",
    "    prices = yf.download(ticker, start = start_date1)\n",
    "    price_data.append(prices.assign(ticker=ticker)[['Adj Close']])\n",
    "\n",
    "df_stocks = pd.concat(price_data, axis=1)\n",
    "df_stocks.columns=tickers\n",
    "df_stocks.head()"
   ]
  },
  {
   "cell_type": "code",
   "execution_count": 4,
   "metadata": {},
   "outputs": [
    {
     "output_type": "stream",
     "name": "stdout",
     "text": [
      "AAPL    0\nAMGN    0\nAXP     0\nBA      0\nCAT     0\nCRM     0\nCSCO    0\nCVX     0\nDIS     0\nDOW     0\nGS      0\nHD      0\nHON     0\nIBM     0\nINTC    0\nJNJ     0\nJPM     0\nKO      0\nMCD     0\nMMM     0\nMRK     0\nMSFT    0\nNKE     0\nPG      0\nTRV     0\nUNH     0\nV       0\nVZ      0\nWBA     0\nWMT     0\ndtype: int64\n"
     ]
    }
   ],
   "source": [
    "#Checking if any NaN values in the data\n",
    "nullin_df = pd.DataFrame(df_stocks,columns=tickers)\n",
    "print(nullin_df.isnull().sum())"
   ]
  },
  {
   "cell_type": "code",
   "execution_count": 5,
   "metadata": {},
   "outputs": [],
   "source": [
    "#Annualized Return\n",
    "mu = expected_returns.mean_historical_return(df_stocks)\n",
    "#Sample Variance of Portfolio\n",
    "Sigma = risk_models.sample_cov(df_stocks)"
   ]
  },
  {
   "cell_type": "code",
   "execution_count": 6,
   "metadata": {},
   "outputs": [
    {
     "output_type": "stream",
     "name": "stdout",
     "text": [
      "OrderedDict([('AAPL', 0.9255), ('AMGN', -0.38445), ('AXP', 0.39729), ('BA', -0.51711), ('CAT', 1.0), ('CRM', -0.18305), ('CSCO', -0.07823), ('CVX', -0.35574), ('DIS', 0.04817), ('DOW', 0.06571), ('GS', 1.0), ('HD', 0.44595), ('HON', 0.65598), ('IBM', -0.26207), ('INTC', -0.7992), ('JNJ', 1.0), ('JPM', -0.82906), ('KO', -0.75868), ('MCD', -0.68554), ('MMM', 0.07294), ('MRK', -0.27302), ('MSFT', 0.91898), ('NKE', 0.72463), ('PG', -0.75791), ('TRV', 0.36118), ('UNH', 0.05416), ('V', -1.0), ('VZ', 0.03916), ('WBA', -0.30169), ('WMT', 0.47611)])\n"
     ]
    }
   ],
   "source": [
    "#Max Sharpe Ratio - Tangent to the EF\n",
    "ef = EfficientFrontier(mu, Sigma, weight_bounds=(-1,1)) #weight bounds in negative allows shorting of stocks\n",
    "sharpe_pfolio=ef.max_sharpe() #May use add objective to ensure minimum zero weighting to individual stocks\n",
    "sharpe_pwt=ef.clean_weights()\n",
    "print(sharpe_pwt)"
   ]
  },
  {
   "cell_type": "code",
   "execution_count": 7,
   "metadata": {},
   "outputs": [
    {
     "output_type": "stream",
     "name": "stdout",
     "text": [
      "Expected annual return: 233.3%\nAnnual volatility: 74.3%\nSharpe Ratio: 3.11\n"
     ]
    },
    {
     "output_type": "execute_result",
     "data": {
      "text/plain": [
       "(2.3329981244265285, 0.7431507929060126, 3.1124209871078707)"
      ]
     },
     "metadata": {},
     "execution_count": 7
    }
   ],
   "source": [
    "# 2year risk free rate - Treasury Yield \n",
    "ef.portfolio_performance(verbose=True)"
   ]
  },
  {
   "cell_type": "code",
   "execution_count": 8,
   "metadata": {},
   "outputs": [],
   "source": [
    "# #  Market neutral portfolios (with weights summing to zero)\n",
    "# from pypfopt.expected_returns import mean_historical_return\n",
    "# from pypfopt.risk_models import CovarianceShrinkage\n",
    "\n",
    "\n",
    "# mu = mean_historical_return(df_stocks)\n",
    "# S = CovarianceShrinkage(df_stocks).ledoit_wolf()\n",
    "# ef = EfficientFrontier(mu, S, weight_bounds=(-1,1))\n",
    "# ef.efficient_return(target_return=0.2, market_neutral=True)"
   ]
  },
  {
   "cell_type": "code",
   "execution_count": 9,
   "metadata": {},
   "outputs": [
    {
     "output_type": "display_data",
     "data": {
      "text/plain": "<Figure size 432x288 with 1 Axes>",
      "image/svg+xml": "<?xml version=\"1.0\" encoding=\"utf-8\" standalone=\"no\"?>\r\n<!DOCTYPE svg PUBLIC \"-//W3C//DTD SVG 1.1//EN\"\r\n  \"http://www.w3.org/Graphics/SVG/1.1/DTD/svg11.dtd\">\r\n<svg height=\"280.15625pt\" version=\"1.1\" viewBox=\"0 0 429.155985 280.15625\" width=\"429.155985pt\" xmlns=\"http://www.w3.org/2000/svg\" xmlns:xlink=\"http://www.w3.org/1999/xlink\">\r\n <metadata>\r\n  <rdf:RDF xmlns:cc=\"http://creativecommons.org/ns#\" xmlns:dc=\"http://purl.org/dc/elements/1.1/\" xmlns:rdf=\"http://www.w3.org/1999/02/22-rdf-syntax-ns#\">\r\n   <cc:Work>\r\n    <dc:type rdf:resource=\"http://purl.org/dc/dcmitype/StillImage\"/>\r\n    <dc:date>2021-07-04T23:30:23.258786</dc:date>\r\n    <dc:format>image/svg+xml</dc:format>\r\n    <dc:creator>\r\n     <cc:Agent>\r\n      <dc:title>Matplotlib v3.4.2, https://matplotlib.org/</dc:title>\r\n     </cc:Agent>\r\n    </dc:creator>\r\n   </cc:Work>\r\n  </rdf:RDF>\r\n </metadata>\r\n <defs>\r\n  <style type=\"text/css\">*{stroke-linecap:butt;stroke-linejoin:round;}</style>\r\n </defs>\r\n <g id=\"figure_1\">\r\n  <g id=\"patch_1\">\r\n   <path d=\"M 0 280.15625 \r\nL 429.155985 280.15625 \r\nL 429.155985 0 \r\nL 0 0 \r\nz\r\n\" style=\"fill:none;\"/>\r\n  </g>\r\n  <g id=\"axes_1\">\r\n   <g id=\"patch_2\">\r\n    <path d=\"M 53.7125 242.6 \r\nL 412.969654 242.6 \r\nL 412.969654 7.2 \r\nL 53.7125 7.2 \r\nz\r\n\" style=\"fill:#ffffff;\"/>\r\n   </g>\r\n   <g id=\"PathCollection_1\">\r\n    <defs>\r\n     <path d=\"M -5 5 \r\nL 5 -5 \r\nM -5 -5 \r\nL 5 5 \r\n\" id=\"meac2909f14\" style=\"stroke:#ff0000;stroke-width:1.5;\"/>\r\n    </defs>\r\n    <g clip-path=\"url(#pdb24716d23)\">\r\n     <use style=\"fill:#ff0000;stroke:#ff0000;stroke-width:1.5;\" x=\"142.666477\" xlink:href=\"#meac2909f14\" y=\"29.513065\"/>\r\n    </g>\r\n   </g>\r\n   <g id=\"PathCollection_2\">\r\n    <defs>\r\n     <path d=\"M 0 2.738613 \r\nC 0.726289 2.738613 1.422928 2.450055 1.936492 1.936492 \r\nC 2.450055 1.422928 2.738613 0.726289 2.738613 0 \r\nC 2.738613 -0.726289 2.450055 -1.422928 1.936492 -1.936492 \r\nC 1.422928 -2.450055 0.726289 -2.738613 0 -2.738613 \r\nC -0.726289 -2.738613 -1.422928 -2.450055 -1.936492 -1.936492 \r\nC -2.450055 -1.422928 -2.738613 -0.726289 -2.738613 0 \r\nC -2.738613 0.726289 -2.450055 1.422928 -1.936492 1.936492 \r\nC -1.422928 2.450055 -0.726289 2.738613 0 2.738613 \r\nz\r\n\" id=\"mb9ae312be6\" style=\"stroke:#000000;\"/>\r\n    </defs>\r\n    <g clip-path=\"url(#pdb24716d23)\">\r\n     <use style=\"stroke:#000000;\" x=\"192.213517\" xlink:href=\"#mb9ae312be6\" y=\"17.9\"/>\r\n     <use style=\"stroke:#000000;\" x=\"143.867346\" xlink:href=\"#mb9ae312be6\" y=\"132.354231\"/>\r\n     <use style=\"stroke:#000000;\" x=\"275.962306\" xlink:href=\"#mb9ae312be6\" y=\"111.071581\"/>\r\n     <use style=\"stroke:#000000;\" x=\"396.639784\" xlink:href=\"#mb9ae312be6\" y=\"231.9\"/>\r\n     <use style=\"stroke:#000000;\" x=\"182.008329\" xlink:href=\"#mb9ae312be6\" y=\"36.885452\"/>\r\n     <use style=\"stroke:#000000;\" x=\"221.45727\" xlink:href=\"#mb9ae312be6\" y=\"105.620618\"/>\r\n     <use style=\"stroke:#000000;\" x=\"159.202344\" xlink:href=\"#mb9ae312be6\" y=\"120.212684\"/>\r\n     <use style=\"stroke:#000000;\" x=\"261.537503\" xlink:href=\"#mb9ae312be6\" y=\"159.00145\"/>\r\n     <use style=\"stroke:#000000;\" x=\"201.456881\" xlink:href=\"#mb9ae312be6\" y=\"112.312755\"/>\r\n     <use style=\"stroke:#000000;\" x=\"266.289809\" xlink:href=\"#mb9ae312be6\" y=\"73.433081\"/>\r\n     <use style=\"stroke:#000000;\" x=\"217.854071\" xlink:href=\"#mb9ae312be6\" y=\"40.128987\"/>\r\n     <use style=\"stroke:#000000;\" x=\"171.593719\" xlink:href=\"#mb9ae312be6\" y=\"88.915793\"/>\r\n     <use style=\"stroke:#000000;\" x=\"178.14392\" xlink:href=\"#mb9ae312be6\" y=\"110.365989\"/>\r\n     <use style=\"stroke:#000000;\" x=\"161.945445\" xlink:href=\"#mb9ae312be6\" y=\"166.750988\"/>\r\n     <use style=\"stroke:#000000;\" x=\"232.457704\" xlink:href=\"#mb9ae312be6\" y=\"192.321\"/>\r\n     <use style=\"stroke:#000000;\" x=\"104.137486\" xlink:href=\"#mb9ae312be6\" y=\"127.183942\"/>\r\n     <use style=\"stroke:#000000;\" x=\"224.302069\" xlink:href=\"#mb9ae312be6\" y=\"124.992596\"/>\r\n     <use style=\"stroke:#000000;\" x=\"124.460236\" xlink:href=\"#mb9ae312be6\" y=\"174.965464\"/>\r\n     <use style=\"stroke:#000000;\" x=\"150.583311\" xlink:href=\"#mb9ae312be6\" y=\"138.787212\"/>\r\n     <use style=\"stroke:#000000;\" x=\"138.73131\" xlink:href=\"#mb9ae312be6\" y=\"101.078032\"/>\r\n     <use style=\"stroke:#000000;\" x=\"112.608852\" xlink:href=\"#mb9ae312be6\" y=\"153.178935\"/>\r\n     <use style=\"stroke:#000000;\" x=\"173.306223\" xlink:href=\"#mb9ae312be6\" y=\"63.818691\"/>\r\n     <use style=\"stroke:#000000;\" x=\"178.732204\" xlink:href=\"#mb9ae312be6\" y=\"48.776078\"/>\r\n     <use style=\"stroke:#000000;\" x=\"114.463567\" xlink:href=\"#mb9ae312be6\" y=\"140.063422\"/>\r\n     <use style=\"stroke:#000000;\" x=\"195.421627\" xlink:href=\"#mb9ae312be6\" y=\"129.631864\"/>\r\n     <use style=\"stroke:#000000;\" x=\"187.344094\" xlink:href=\"#mb9ae312be6\" y=\"88.656226\"/>\r\n     <use style=\"stroke:#000000;\" x=\"168.462941\" xlink:href=\"#mb9ae312be6\" y=\"137.995892\"/>\r\n     <use style=\"stroke:#000000;\" x=\"76.084885\" xlink:href=\"#mb9ae312be6\" y=\"159.840134\"/>\r\n     <use style=\"stroke:#000000;\" x=\"204.261568\" xlink:href=\"#mb9ae312be6\" y=\"170.08635\"/>\r\n     <use style=\"stroke:#000000;\" x=\"112.91996\" xlink:href=\"#mb9ae312be6\" y=\"118.989493\"/>\r\n    </g>\r\n   </g>\r\n   <g id=\"matplotlib.axis_1\">\r\n    <g id=\"xtick_1\">\r\n     <g id=\"line2d_1\">\r\n      <defs>\r\n       <path d=\"M 0 0 \r\nL 0 3.5 \r\n\" id=\"mba8030acec\" style=\"stroke:#000000;stroke-width:0.8;\"/>\r\n      </defs>\r\n      <g>\r\n       <use style=\"stroke:#000000;stroke-width:0.8;\" x=\"61.373054\" xlink:href=\"#mba8030acec\" y=\"242.6\"/>\r\n      </g>\r\n     </g>\r\n     <g id=\"text_1\">\r\n      <!-- 20% -->\r\n      <g transform=\"translate(50.259772 257.198437)scale(0.1 -0.1)\">\r\n       <defs>\r\n        <path d=\"M 1228 531 \r\nL 3431 531 \r\nL 3431 0 \r\nL 469 0 \r\nL 469 531 \r\nQ 828 903 1448 1529 \r\nQ 2069 2156 2228 2338 \r\nQ 2531 2678 2651 2914 \r\nQ 2772 3150 2772 3378 \r\nQ 2772 3750 2511 3984 \r\nQ 2250 4219 1831 4219 \r\nQ 1534 4219 1204 4116 \r\nQ 875 4013 500 3803 \r\nL 500 4441 \r\nQ 881 4594 1212 4672 \r\nQ 1544 4750 1819 4750 \r\nQ 2544 4750 2975 4387 \r\nQ 3406 4025 3406 3419 \r\nQ 3406 3131 3298 2873 \r\nQ 3191 2616 2906 2266 \r\nQ 2828 2175 2409 1742 \r\nQ 1991 1309 1228 531 \r\nz\r\n\" id=\"DejaVuSans-32\" transform=\"scale(0.015625)\"/>\r\n        <path d=\"M 2034 4250 \r\nQ 1547 4250 1301 3770 \r\nQ 1056 3291 1056 2328 \r\nQ 1056 1369 1301 889 \r\nQ 1547 409 2034 409 \r\nQ 2525 409 2770 889 \r\nQ 3016 1369 3016 2328 \r\nQ 3016 3291 2770 3770 \r\nQ 2525 4250 2034 4250 \r\nz\r\nM 2034 4750 \r\nQ 2819 4750 3233 4129 \r\nQ 3647 3509 3647 2328 \r\nQ 3647 1150 3233 529 \r\nQ 2819 -91 2034 -91 \r\nQ 1250 -91 836 529 \r\nQ 422 1150 422 2328 \r\nQ 422 3509 836 4129 \r\nQ 1250 4750 2034 4750 \r\nz\r\n\" id=\"DejaVuSans-30\" transform=\"scale(0.015625)\"/>\r\n        <path d=\"M 4653 2053 \r\nQ 4381 2053 4226 1822 \r\nQ 4072 1591 4072 1178 \r\nQ 4072 772 4226 539 \r\nQ 4381 306 4653 306 \r\nQ 4919 306 5073 539 \r\nQ 5228 772 5228 1178 \r\nQ 5228 1588 5073 1820 \r\nQ 4919 2053 4653 2053 \r\nz\r\nM 4653 2450 \r\nQ 5147 2450 5437 2106 \r\nQ 5728 1763 5728 1178 \r\nQ 5728 594 5436 251 \r\nQ 5144 -91 4653 -91 \r\nQ 4153 -91 3862 251 \r\nQ 3572 594 3572 1178 \r\nQ 3572 1766 3864 2108 \r\nQ 4156 2450 4653 2450 \r\nz\r\nM 1428 4353 \r\nQ 1159 4353 1004 4120 \r\nQ 850 3888 850 3481 \r\nQ 850 3069 1003 2837 \r\nQ 1156 2606 1428 2606 \r\nQ 1700 2606 1854 2837 \r\nQ 2009 3069 2009 3481 \r\nQ 2009 3884 1853 4118 \r\nQ 1697 4353 1428 4353 \r\nz\r\nM 4250 4750 \r\nL 4750 4750 \r\nL 1831 -91 \r\nL 1331 -91 \r\nL 4250 4750 \r\nz\r\nM 1428 4750 \r\nQ 1922 4750 2215 4408 \r\nQ 2509 4066 2509 3481 \r\nQ 2509 2891 2217 2550 \r\nQ 1925 2209 1428 2209 \r\nQ 931 2209 642 2551 \r\nQ 353 2894 353 3481 \r\nQ 353 4063 643 4406 \r\nQ 934 4750 1428 4750 \r\nz\r\n\" id=\"DejaVuSans-25\" transform=\"scale(0.015625)\"/>\r\n       </defs>\r\n       <use xlink:href=\"#DejaVuSans-32\"/>\r\n       <use x=\"63.623047\" xlink:href=\"#DejaVuSans-30\"/>\r\n       <use x=\"127.246094\" xlink:href=\"#DejaVuSans-25\"/>\r\n      </g>\r\n     </g>\r\n    </g>\r\n    <g id=\"xtick_2\">\r\n     <g id=\"line2d_2\">\r\n      <g>\r\n       <use style=\"stroke:#000000;stroke-width:0.8;\" x=\"119.617995\" xlink:href=\"#mba8030acec\" y=\"242.6\"/>\r\n      </g>\r\n     </g>\r\n     <g id=\"text_2\">\r\n      <!-- 30% -->\r\n      <g transform=\"translate(108.504714 257.198437)scale(0.1 -0.1)\">\r\n       <defs>\r\n        <path d=\"M 2597 2516 \r\nQ 3050 2419 3304 2112 \r\nQ 3559 1806 3559 1356 \r\nQ 3559 666 3084 287 \r\nQ 2609 -91 1734 -91 \r\nQ 1441 -91 1130 -33 \r\nQ 819 25 488 141 \r\nL 488 750 \r\nQ 750 597 1062 519 \r\nQ 1375 441 1716 441 \r\nQ 2309 441 2620 675 \r\nQ 2931 909 2931 1356 \r\nQ 2931 1769 2642 2001 \r\nQ 2353 2234 1838 2234 \r\nL 1294 2234 \r\nL 1294 2753 \r\nL 1863 2753 \r\nQ 2328 2753 2575 2939 \r\nQ 2822 3125 2822 3475 \r\nQ 2822 3834 2567 4026 \r\nQ 2313 4219 1838 4219 \r\nQ 1578 4219 1281 4162 \r\nQ 984 4106 628 3988 \r\nL 628 4550 \r\nQ 988 4650 1302 4700 \r\nQ 1616 4750 1894 4750 \r\nQ 2613 4750 3031 4423 \r\nQ 3450 4097 3450 3541 \r\nQ 3450 3153 3228 2886 \r\nQ 3006 2619 2597 2516 \r\nz\r\n\" id=\"DejaVuSans-33\" transform=\"scale(0.015625)\"/>\r\n       </defs>\r\n       <use xlink:href=\"#DejaVuSans-33\"/>\r\n       <use x=\"63.623047\" xlink:href=\"#DejaVuSans-30\"/>\r\n       <use x=\"127.246094\" xlink:href=\"#DejaVuSans-25\"/>\r\n      </g>\r\n     </g>\r\n    </g>\r\n    <g id=\"xtick_3\">\r\n     <g id=\"line2d_3\">\r\n      <g>\r\n       <use style=\"stroke:#000000;stroke-width:0.8;\" x=\"177.862937\" xlink:href=\"#mba8030acec\" y=\"242.6\"/>\r\n      </g>\r\n     </g>\r\n     <g id=\"text_3\">\r\n      <!-- 40% -->\r\n      <g transform=\"translate(166.749656 257.198437)scale(0.1 -0.1)\">\r\n       <defs>\r\n        <path d=\"M 2419 4116 \r\nL 825 1625 \r\nL 2419 1625 \r\nL 2419 4116 \r\nz\r\nM 2253 4666 \r\nL 3047 4666 \r\nL 3047 1625 \r\nL 3713 1625 \r\nL 3713 1100 \r\nL 3047 1100 \r\nL 3047 0 \r\nL 2419 0 \r\nL 2419 1100 \r\nL 313 1100 \r\nL 313 1709 \r\nL 2253 4666 \r\nz\r\n\" id=\"DejaVuSans-34\" transform=\"scale(0.015625)\"/>\r\n       </defs>\r\n       <use xlink:href=\"#DejaVuSans-34\"/>\r\n       <use x=\"63.623047\" xlink:href=\"#DejaVuSans-30\"/>\r\n       <use x=\"127.246094\" xlink:href=\"#DejaVuSans-25\"/>\r\n      </g>\r\n     </g>\r\n    </g>\r\n    <g id=\"xtick_4\">\r\n     <g id=\"line2d_4\">\r\n      <g>\r\n       <use style=\"stroke:#000000;stroke-width:0.8;\" x=\"236.107879\" xlink:href=\"#mba8030acec\" y=\"242.6\"/>\r\n      </g>\r\n     </g>\r\n     <g id=\"text_4\">\r\n      <!-- 50% -->\r\n      <g transform=\"translate(224.994597 257.198437)scale(0.1 -0.1)\">\r\n       <defs>\r\n        <path d=\"M 691 4666 \r\nL 3169 4666 \r\nL 3169 4134 \r\nL 1269 4134 \r\nL 1269 2991 \r\nQ 1406 3038 1543 3061 \r\nQ 1681 3084 1819 3084 \r\nQ 2600 3084 3056 2656 \r\nQ 3513 2228 3513 1497 \r\nQ 3513 744 3044 326 \r\nQ 2575 -91 1722 -91 \r\nQ 1428 -91 1123 -41 \r\nQ 819 9 494 109 \r\nL 494 744 \r\nQ 775 591 1075 516 \r\nQ 1375 441 1709 441 \r\nQ 2250 441 2565 725 \r\nQ 2881 1009 2881 1497 \r\nQ 2881 1984 2565 2268 \r\nQ 2250 2553 1709 2553 \r\nQ 1456 2553 1204 2497 \r\nQ 953 2441 691 2322 \r\nL 691 4666 \r\nz\r\n\" id=\"DejaVuSans-35\" transform=\"scale(0.015625)\"/>\r\n       </defs>\r\n       <use xlink:href=\"#DejaVuSans-35\"/>\r\n       <use x=\"63.623047\" xlink:href=\"#DejaVuSans-30\"/>\r\n       <use x=\"127.246094\" xlink:href=\"#DejaVuSans-25\"/>\r\n      </g>\r\n     </g>\r\n    </g>\r\n    <g id=\"xtick_5\">\r\n     <g id=\"line2d_5\">\r\n      <g>\r\n       <use style=\"stroke:#000000;stroke-width:0.8;\" x=\"294.35282\" xlink:href=\"#mba8030acec\" y=\"242.6\"/>\r\n      </g>\r\n     </g>\r\n     <g id=\"text_5\">\r\n      <!-- 60% -->\r\n      <g transform=\"translate(283.239539 257.198437)scale(0.1 -0.1)\">\r\n       <defs>\r\n        <path d=\"M 2113 2584 \r\nQ 1688 2584 1439 2293 \r\nQ 1191 2003 1191 1497 \r\nQ 1191 994 1439 701 \r\nQ 1688 409 2113 409 \r\nQ 2538 409 2786 701 \r\nQ 3034 994 3034 1497 \r\nQ 3034 2003 2786 2293 \r\nQ 2538 2584 2113 2584 \r\nz\r\nM 3366 4563 \r\nL 3366 3988 \r\nQ 3128 4100 2886 4159 \r\nQ 2644 4219 2406 4219 \r\nQ 1781 4219 1451 3797 \r\nQ 1122 3375 1075 2522 \r\nQ 1259 2794 1537 2939 \r\nQ 1816 3084 2150 3084 \r\nQ 2853 3084 3261 2657 \r\nQ 3669 2231 3669 1497 \r\nQ 3669 778 3244 343 \r\nQ 2819 -91 2113 -91 \r\nQ 1303 -91 875 529 \r\nQ 447 1150 447 2328 \r\nQ 447 3434 972 4092 \r\nQ 1497 4750 2381 4750 \r\nQ 2619 4750 2861 4703 \r\nQ 3103 4656 3366 4563 \r\nz\r\n\" id=\"DejaVuSans-36\" transform=\"scale(0.015625)\"/>\r\n       </defs>\r\n       <use xlink:href=\"#DejaVuSans-36\"/>\r\n       <use x=\"63.623047\" xlink:href=\"#DejaVuSans-30\"/>\r\n       <use x=\"127.246094\" xlink:href=\"#DejaVuSans-25\"/>\r\n      </g>\r\n     </g>\r\n    </g>\r\n    <g id=\"xtick_6\">\r\n     <g id=\"line2d_6\">\r\n      <g>\r\n       <use style=\"stroke:#000000;stroke-width:0.8;\" x=\"352.597762\" xlink:href=\"#mba8030acec\" y=\"242.6\"/>\r\n      </g>\r\n     </g>\r\n     <g id=\"text_6\">\r\n      <!-- 70% -->\r\n      <g transform=\"translate(341.484481 257.198437)scale(0.1 -0.1)\">\r\n       <defs>\r\n        <path d=\"M 525 4666 \r\nL 3525 4666 \r\nL 3525 4397 \r\nL 1831 0 \r\nL 1172 0 \r\nL 2766 4134 \r\nL 525 4134 \r\nL 525 4666 \r\nz\r\n\" id=\"DejaVuSans-37\" transform=\"scale(0.015625)\"/>\r\n       </defs>\r\n       <use xlink:href=\"#DejaVuSans-37\"/>\r\n       <use x=\"63.623047\" xlink:href=\"#DejaVuSans-30\"/>\r\n       <use x=\"127.246094\" xlink:href=\"#DejaVuSans-25\"/>\r\n      </g>\r\n     </g>\r\n    </g>\r\n    <g id=\"xtick_7\">\r\n     <g id=\"line2d_7\">\r\n      <g>\r\n       <use style=\"stroke:#000000;stroke-width:0.8;\" x=\"410.842704\" xlink:href=\"#mba8030acec\" y=\"242.6\"/>\r\n      </g>\r\n     </g>\r\n     <g id=\"text_7\">\r\n      <!-- 80% -->\r\n      <g transform=\"translate(399.729422 257.198437)scale(0.1 -0.1)\">\r\n       <defs>\r\n        <path d=\"M 2034 2216 \r\nQ 1584 2216 1326 1975 \r\nQ 1069 1734 1069 1313 \r\nQ 1069 891 1326 650 \r\nQ 1584 409 2034 409 \r\nQ 2484 409 2743 651 \r\nQ 3003 894 3003 1313 \r\nQ 3003 1734 2745 1975 \r\nQ 2488 2216 2034 2216 \r\nz\r\nM 1403 2484 \r\nQ 997 2584 770 2862 \r\nQ 544 3141 544 3541 \r\nQ 544 4100 942 4425 \r\nQ 1341 4750 2034 4750 \r\nQ 2731 4750 3128 4425 \r\nQ 3525 4100 3525 3541 \r\nQ 3525 3141 3298 2862 \r\nQ 3072 2584 2669 2484 \r\nQ 3125 2378 3379 2068 \r\nQ 3634 1759 3634 1313 \r\nQ 3634 634 3220 271 \r\nQ 2806 -91 2034 -91 \r\nQ 1263 -91 848 271 \r\nQ 434 634 434 1313 \r\nQ 434 1759 690 2068 \r\nQ 947 2378 1403 2484 \r\nz\r\nM 1172 3481 \r\nQ 1172 3119 1398 2916 \r\nQ 1625 2713 2034 2713 \r\nQ 2441 2713 2670 2916 \r\nQ 2900 3119 2900 3481 \r\nQ 2900 3844 2670 4047 \r\nQ 2441 4250 2034 4250 \r\nQ 1625 4250 1398 4047 \r\nQ 1172 3844 1172 3481 \r\nz\r\n\" id=\"DejaVuSans-38\" transform=\"scale(0.015625)\"/>\r\n       </defs>\r\n       <use xlink:href=\"#DejaVuSans-38\"/>\r\n       <use x=\"63.623047\" xlink:href=\"#DejaVuSans-30\"/>\r\n       <use x=\"127.246094\" xlink:href=\"#DejaVuSans-25\"/>\r\n      </g>\r\n     </g>\r\n    </g>\r\n    <g id=\"text_8\">\r\n     <!-- Volatility -->\r\n     <g transform=\"translate(211.74889 270.876562)scale(0.1 -0.1)\">\r\n      <defs>\r\n       <path d=\"M 1831 0 \r\nL 50 4666 \r\nL 709 4666 \r\nL 2188 738 \r\nL 3669 4666 \r\nL 4325 4666 \r\nL 2547 0 \r\nL 1831 0 \r\nz\r\n\" id=\"DejaVuSans-56\" transform=\"scale(0.015625)\"/>\r\n       <path d=\"M 1959 3097 \r\nQ 1497 3097 1228 2736 \r\nQ 959 2375 959 1747 \r\nQ 959 1119 1226 758 \r\nQ 1494 397 1959 397 \r\nQ 2419 397 2687 759 \r\nQ 2956 1122 2956 1747 \r\nQ 2956 2369 2687 2733 \r\nQ 2419 3097 1959 3097 \r\nz\r\nM 1959 3584 \r\nQ 2709 3584 3137 3096 \r\nQ 3566 2609 3566 1747 \r\nQ 3566 888 3137 398 \r\nQ 2709 -91 1959 -91 \r\nQ 1206 -91 779 398 \r\nQ 353 888 353 1747 \r\nQ 353 2609 779 3096 \r\nQ 1206 3584 1959 3584 \r\nz\r\n\" id=\"DejaVuSans-6f\" transform=\"scale(0.015625)\"/>\r\n       <path d=\"M 603 4863 \r\nL 1178 4863 \r\nL 1178 0 \r\nL 603 0 \r\nL 603 4863 \r\nz\r\n\" id=\"DejaVuSans-6c\" transform=\"scale(0.015625)\"/>\r\n       <path d=\"M 2194 1759 \r\nQ 1497 1759 1228 1600 \r\nQ 959 1441 959 1056 \r\nQ 959 750 1161 570 \r\nQ 1363 391 1709 391 \r\nQ 2188 391 2477 730 \r\nQ 2766 1069 2766 1631 \r\nL 2766 1759 \r\nL 2194 1759 \r\nz\r\nM 3341 1997 \r\nL 3341 0 \r\nL 2766 0 \r\nL 2766 531 \r\nQ 2569 213 2275 61 \r\nQ 1981 -91 1556 -91 \r\nQ 1019 -91 701 211 \r\nQ 384 513 384 1019 \r\nQ 384 1609 779 1909 \r\nQ 1175 2209 1959 2209 \r\nL 2766 2209 \r\nL 2766 2266 \r\nQ 2766 2663 2505 2880 \r\nQ 2244 3097 1772 3097 \r\nQ 1472 3097 1187 3025 \r\nQ 903 2953 641 2809 \r\nL 641 3341 \r\nQ 956 3463 1253 3523 \r\nQ 1550 3584 1831 3584 \r\nQ 2591 3584 2966 3190 \r\nQ 3341 2797 3341 1997 \r\nz\r\n\" id=\"DejaVuSans-61\" transform=\"scale(0.015625)\"/>\r\n       <path d=\"M 1172 4494 \r\nL 1172 3500 \r\nL 2356 3500 \r\nL 2356 3053 \r\nL 1172 3053 \r\nL 1172 1153 \r\nQ 1172 725 1289 603 \r\nQ 1406 481 1766 481 \r\nL 2356 481 \r\nL 2356 0 \r\nL 1766 0 \r\nQ 1100 0 847 248 \r\nQ 594 497 594 1153 \r\nL 594 3053 \r\nL 172 3053 \r\nL 172 3500 \r\nL 594 3500 \r\nL 594 4494 \r\nL 1172 4494 \r\nz\r\n\" id=\"DejaVuSans-74\" transform=\"scale(0.015625)\"/>\r\n       <path d=\"M 603 3500 \r\nL 1178 3500 \r\nL 1178 0 \r\nL 603 0 \r\nL 603 3500 \r\nz\r\nM 603 4863 \r\nL 1178 4863 \r\nL 1178 4134 \r\nL 603 4134 \r\nL 603 4863 \r\nz\r\n\" id=\"DejaVuSans-69\" transform=\"scale(0.015625)\"/>\r\n       <path d=\"M 2059 -325 \r\nQ 1816 -950 1584 -1140 \r\nQ 1353 -1331 966 -1331 \r\nL 506 -1331 \r\nL 506 -850 \r\nL 844 -850 \r\nQ 1081 -850 1212 -737 \r\nQ 1344 -625 1503 -206 \r\nL 1606 56 \r\nL 191 3500 \r\nL 800 3500 \r\nL 1894 763 \r\nL 2988 3500 \r\nL 3597 3500 \r\nL 2059 -325 \r\nz\r\n\" id=\"DejaVuSans-79\" transform=\"scale(0.015625)\"/>\r\n      </defs>\r\n      <use xlink:href=\"#DejaVuSans-56\"/>\r\n      <use x=\"60.658203\" xlink:href=\"#DejaVuSans-6f\"/>\r\n      <use x=\"121.839844\" xlink:href=\"#DejaVuSans-6c\"/>\r\n      <use x=\"149.623047\" xlink:href=\"#DejaVuSans-61\"/>\r\n      <use x=\"210.902344\" xlink:href=\"#DejaVuSans-74\"/>\r\n      <use x=\"250.111328\" xlink:href=\"#DejaVuSans-69\"/>\r\n      <use x=\"277.894531\" xlink:href=\"#DejaVuSans-6c\"/>\r\n      <use x=\"305.677734\" xlink:href=\"#DejaVuSans-69\"/>\r\n      <use x=\"333.460938\" xlink:href=\"#DejaVuSans-74\"/>\r\n      <use x=\"372.669922\" xlink:href=\"#DejaVuSans-79\"/>\r\n     </g>\r\n    </g>\r\n   </g>\r\n   <g id=\"matplotlib.axis_2\">\r\n    <g id=\"ytick_1\">\r\n     <g id=\"line2d_8\">\r\n      <defs>\r\n       <path d=\"M 0 0 \r\nL -3.5 0 \r\n\" id=\"mc5383a74a5\" style=\"stroke:#000000;stroke-width:0.8;\"/>\r\n      </defs>\r\n      <g>\r\n       <use style=\"stroke:#000000;stroke-width:0.8;\" x=\"53.7125\" xlink:href=\"#mc5383a74a5\" y=\"223.373631\"/>\r\n      </g>\r\n     </g>\r\n     <g id=\"text_9\">\r\n      <!-- -20% -->\r\n      <g transform=\"translate(20.878125 227.17285)scale(0.1 -0.1)\">\r\n       <defs>\r\n        <path d=\"M 313 2009 \r\nL 1997 2009 \r\nL 1997 1497 \r\nL 313 1497 \r\nL 313 2009 \r\nz\r\n\" id=\"DejaVuSans-2d\" transform=\"scale(0.015625)\"/>\r\n       </defs>\r\n       <use xlink:href=\"#DejaVuSans-2d\"/>\r\n       <use x=\"36.083984\" xlink:href=\"#DejaVuSans-32\"/>\r\n       <use x=\"99.707031\" xlink:href=\"#DejaVuSans-30\"/>\r\n       <use x=\"163.330078\" xlink:href=\"#DejaVuSans-25\"/>\r\n      </g>\r\n     </g>\r\n    </g>\r\n    <g id=\"ytick_2\">\r\n     <g id=\"line2d_9\">\r\n      <g>\r\n       <use style=\"stroke:#000000;stroke-width:0.8;\" x=\"53.7125\" xlink:href=\"#mc5383a74a5\" y=\"194.056408\"/>\r\n      </g>\r\n     </g>\r\n     <g id=\"text_10\">\r\n      <!-- -10% -->\r\n      <g transform=\"translate(20.878125 197.855627)scale(0.1 -0.1)\">\r\n       <defs>\r\n        <path d=\"M 794 531 \r\nL 1825 531 \r\nL 1825 4091 \r\nL 703 3866 \r\nL 703 4441 \r\nL 1819 4666 \r\nL 2450 4666 \r\nL 2450 531 \r\nL 3481 531 \r\nL 3481 0 \r\nL 794 0 \r\nL 794 531 \r\nz\r\n\" id=\"DejaVuSans-31\" transform=\"scale(0.015625)\"/>\r\n       </defs>\r\n       <use xlink:href=\"#DejaVuSans-2d\"/>\r\n       <use x=\"36.083984\" xlink:href=\"#DejaVuSans-31\"/>\r\n       <use x=\"99.707031\" xlink:href=\"#DejaVuSans-30\"/>\r\n       <use x=\"163.330078\" xlink:href=\"#DejaVuSans-25\"/>\r\n      </g>\r\n     </g>\r\n    </g>\r\n    <g id=\"ytick_3\">\r\n     <g id=\"line2d_10\">\r\n      <g>\r\n       <use style=\"stroke:#000000;stroke-width:0.8;\" x=\"53.7125\" xlink:href=\"#mc5383a74a5\" y=\"164.739185\"/>\r\n      </g>\r\n     </g>\r\n     <g id=\"text_11\">\r\n      <!-- 0% -->\r\n      <g transform=\"translate(30.848438 168.538404)scale(0.1 -0.1)\">\r\n       <use xlink:href=\"#DejaVuSans-30\"/>\r\n       <use x=\"63.623047\" xlink:href=\"#DejaVuSans-25\"/>\r\n      </g>\r\n     </g>\r\n    </g>\r\n    <g id=\"ytick_4\">\r\n     <g id=\"line2d_11\">\r\n      <g>\r\n       <use style=\"stroke:#000000;stroke-width:0.8;\" x=\"53.7125\" xlink:href=\"#mc5383a74a5\" y=\"135.421962\"/>\r\n      </g>\r\n     </g>\r\n     <g id=\"text_12\">\r\n      <!-- 10% -->\r\n      <g transform=\"translate(24.485938 139.221181)scale(0.1 -0.1)\">\r\n       <use xlink:href=\"#DejaVuSans-31\"/>\r\n       <use x=\"63.623047\" xlink:href=\"#DejaVuSans-30\"/>\r\n       <use x=\"127.246094\" xlink:href=\"#DejaVuSans-25\"/>\r\n      </g>\r\n     </g>\r\n    </g>\r\n    <g id=\"ytick_5\">\r\n     <g id=\"line2d_12\">\r\n      <g>\r\n       <use style=\"stroke:#000000;stroke-width:0.8;\" x=\"53.7125\" xlink:href=\"#mc5383a74a5\" y=\"106.104739\"/>\r\n      </g>\r\n     </g>\r\n     <g id=\"text_13\">\r\n      <!-- 20% -->\r\n      <g transform=\"translate(24.485938 109.903958)scale(0.1 -0.1)\">\r\n       <use xlink:href=\"#DejaVuSans-32\"/>\r\n       <use x=\"63.623047\" xlink:href=\"#DejaVuSans-30\"/>\r\n       <use x=\"127.246094\" xlink:href=\"#DejaVuSans-25\"/>\r\n      </g>\r\n     </g>\r\n    </g>\r\n    <g id=\"ytick_6\">\r\n     <g id=\"line2d_13\">\r\n      <g>\r\n       <use style=\"stroke:#000000;stroke-width:0.8;\" x=\"53.7125\" xlink:href=\"#mc5383a74a5\" y=\"76.787516\"/>\r\n      </g>\r\n     </g>\r\n     <g id=\"text_14\">\r\n      <!-- 30% -->\r\n      <g transform=\"translate(24.485938 80.586735)scale(0.1 -0.1)\">\r\n       <use xlink:href=\"#DejaVuSans-33\"/>\r\n       <use x=\"63.623047\" xlink:href=\"#DejaVuSans-30\"/>\r\n       <use x=\"127.246094\" xlink:href=\"#DejaVuSans-25\"/>\r\n      </g>\r\n     </g>\r\n    </g>\r\n    <g id=\"ytick_7\">\r\n     <g id=\"line2d_14\">\r\n      <g>\r\n       <use style=\"stroke:#000000;stroke-width:0.8;\" x=\"53.7125\" xlink:href=\"#mc5383a74a5\" y=\"47.470293\"/>\r\n      </g>\r\n     </g>\r\n     <g id=\"text_15\">\r\n      <!-- 40% -->\r\n      <g transform=\"translate(24.485938 51.269512)scale(0.1 -0.1)\">\r\n       <use xlink:href=\"#DejaVuSans-34\"/>\r\n       <use x=\"63.623047\" xlink:href=\"#DejaVuSans-30\"/>\r\n       <use x=\"127.246094\" xlink:href=\"#DejaVuSans-25\"/>\r\n      </g>\r\n     </g>\r\n    </g>\r\n    <g id=\"ytick_8\">\r\n     <g id=\"line2d_15\">\r\n      <g>\r\n       <use style=\"stroke:#000000;stroke-width:0.8;\" x=\"53.7125\" xlink:href=\"#mc5383a74a5\" y=\"18.15307\"/>\r\n      </g>\r\n     </g>\r\n     <g id=\"text_16\">\r\n      <!-- 50% -->\r\n      <g transform=\"translate(24.485938 21.952289)scale(0.1 -0.1)\">\r\n       <use xlink:href=\"#DejaVuSans-35\"/>\r\n       <use x=\"63.623047\" xlink:href=\"#DejaVuSans-30\"/>\r\n       <use x=\"127.246094\" xlink:href=\"#DejaVuSans-25\"/>\r\n      </g>\r\n     </g>\r\n    </g>\r\n    <g id=\"text_17\">\r\n     <!-- Return -->\r\n     <g transform=\"translate(14.798438 141.491406)rotate(-90)scale(0.1 -0.1)\">\r\n      <defs>\r\n       <path d=\"M 2841 2188 \r\nQ 3044 2119 3236 1894 \r\nQ 3428 1669 3622 1275 \r\nL 4263 0 \r\nL 3584 0 \r\nL 2988 1197 \r\nQ 2756 1666 2539 1819 \r\nQ 2322 1972 1947 1972 \r\nL 1259 1972 \r\nL 1259 0 \r\nL 628 0 \r\nL 628 4666 \r\nL 2053 4666 \r\nQ 2853 4666 3247 4331 \r\nQ 3641 3997 3641 3322 \r\nQ 3641 2881 3436 2590 \r\nQ 3231 2300 2841 2188 \r\nz\r\nM 1259 4147 \r\nL 1259 2491 \r\nL 2053 2491 \r\nQ 2509 2491 2742 2702 \r\nQ 2975 2913 2975 3322 \r\nQ 2975 3731 2742 3939 \r\nQ 2509 4147 2053 4147 \r\nL 1259 4147 \r\nz\r\n\" id=\"DejaVuSans-52\" transform=\"scale(0.015625)\"/>\r\n       <path d=\"M 3597 1894 \r\nL 3597 1613 \r\nL 953 1613 \r\nQ 991 1019 1311 708 \r\nQ 1631 397 2203 397 \r\nQ 2534 397 2845 478 \r\nQ 3156 559 3463 722 \r\nL 3463 178 \r\nQ 3153 47 2828 -22 \r\nQ 2503 -91 2169 -91 \r\nQ 1331 -91 842 396 \r\nQ 353 884 353 1716 \r\nQ 353 2575 817 3079 \r\nQ 1281 3584 2069 3584 \r\nQ 2775 3584 3186 3129 \r\nQ 3597 2675 3597 1894 \r\nz\r\nM 3022 2063 \r\nQ 3016 2534 2758 2815 \r\nQ 2500 3097 2075 3097 \r\nQ 1594 3097 1305 2825 \r\nQ 1016 2553 972 2059 \r\nL 3022 2063 \r\nz\r\n\" id=\"DejaVuSans-65\" transform=\"scale(0.015625)\"/>\r\n       <path d=\"M 544 1381 \r\nL 544 3500 \r\nL 1119 3500 \r\nL 1119 1403 \r\nQ 1119 906 1312 657 \r\nQ 1506 409 1894 409 \r\nQ 2359 409 2629 706 \r\nQ 2900 1003 2900 1516 \r\nL 2900 3500 \r\nL 3475 3500 \r\nL 3475 0 \r\nL 2900 0 \r\nL 2900 538 \r\nQ 2691 219 2414 64 \r\nQ 2138 -91 1772 -91 \r\nQ 1169 -91 856 284 \r\nQ 544 659 544 1381 \r\nz\r\nM 1991 3584 \r\nL 1991 3584 \r\nz\r\n\" id=\"DejaVuSans-75\" transform=\"scale(0.015625)\"/>\r\n       <path d=\"M 2631 2963 \r\nQ 2534 3019 2420 3045 \r\nQ 2306 3072 2169 3072 \r\nQ 1681 3072 1420 2755 \r\nQ 1159 2438 1159 1844 \r\nL 1159 0 \r\nL 581 0 \r\nL 581 3500 \r\nL 1159 3500 \r\nL 1159 2956 \r\nQ 1341 3275 1631 3429 \r\nQ 1922 3584 2338 3584 \r\nQ 2397 3584 2469 3576 \r\nQ 2541 3569 2628 3553 \r\nL 2631 2963 \r\nz\r\n\" id=\"DejaVuSans-72\" transform=\"scale(0.015625)\"/>\r\n       <path d=\"M 3513 2113 \r\nL 3513 0 \r\nL 2938 0 \r\nL 2938 2094 \r\nQ 2938 2591 2744 2837 \r\nQ 2550 3084 2163 3084 \r\nQ 1697 3084 1428 2787 \r\nQ 1159 2491 1159 1978 \r\nL 1159 0 \r\nL 581 0 \r\nL 581 3500 \r\nL 1159 3500 \r\nL 1159 2956 \r\nQ 1366 3272 1645 3428 \r\nQ 1925 3584 2291 3584 \r\nQ 2894 3584 3203 3211 \r\nQ 3513 2838 3513 2113 \r\nz\r\n\" id=\"DejaVuSans-6e\" transform=\"scale(0.015625)\"/>\r\n      </defs>\r\n      <use xlink:href=\"#DejaVuSans-52\"/>\r\n      <use x=\"64.982422\" xlink:href=\"#DejaVuSans-65\"/>\r\n      <use x=\"126.505859\" xlink:href=\"#DejaVuSans-74\"/>\r\n      <use x=\"165.714844\" xlink:href=\"#DejaVuSans-75\"/>\r\n      <use x=\"229.09375\" xlink:href=\"#DejaVuSans-72\"/>\r\n      <use x=\"268.457031\" xlink:href=\"#DejaVuSans-6e\"/>\r\n     </g>\r\n    </g>\r\n   </g>\r\n   <g id=\"line2d_16\">\r\n    <path clip-path=\"url(#pdb24716d23)\" d=\"M 192.213517 17.9 \r\nL 192.213517 17.9 \r\nL 192.213517 17.9 \r\nL 192.213517 17.9 \r\nL 192.213517 17.9 \r\nL 192.213517 17.9 \r\nL 192.213517 17.9 \r\nL 192.213517 17.9 \r\nL 192.213517 17.9 \r\nL 184.99402 18.832775 \r\nL 178.277038 19.76555 \r\nL 172.10714 20.698325 \r\nL 166.530019 21.631101 \r\nL 161.591446 22.563876 \r\nL 157.335955 23.496651 \r\nL 153.80529 24.429426 \r\nL 151.036698 25.362201 \r\nL 149.530451 25.97129 \r\nL 148.116838 26.580379 \r\nL 146.797805 27.189467 \r\nL 145.575217 27.798556 \r\nL 144.450847 28.407645 \r\nL 143.426362 29.016734 \r\nL 142.503317 29.625822 \r\nL 141.683139 30.234911 \r\nL 136.734416 34.234249 \r\nL 131.987816 38.233588 \r\nL 127.459103 42.232926 \r\nL 123.164883 46.232265 \r\nL 119.122493 50.231603 \r\nL 115.349852 54.230941 \r\nL 111.865242 58.23028 \r\nL 108.687047 62.229618 \r\nL 108.615265 62.324774 \r\nL 108.543574 62.41993 \r\nL 108.471974 62.515086 \r\nL 108.400467 62.610242 \r\nL 108.329052 62.705398 \r\nL 108.257728 62.800553 \r\nL 108.186497 62.895709 \r\nL 108.115359 62.990865 \r\nL 106.291725 65.451458 \r\nL 104.49819 67.912052 \r\nL 102.735781 70.372645 \r\nL 101.00555 72.833238 \r\nL 99.308579 75.293831 \r\nL 97.645978 77.754424 \r\nL 96.01888 80.215017 \r\nL 94.428444 82.675611 \r\nL 91.279157 87.729089 \r\nL 88.293975 92.782567 \r\nL 85.48335 97.836046 \r\nL 82.85795 102.889524 \r\nL 80.428539 107.943003 \r\nL 78.205831 112.996481 \r\nL 76.200322 118.04996 \r\nL 74.422101 123.103438 \r\nL 74.106088 124.077263 \r\nL 73.798388 125.051089 \r\nL 73.499061 126.024914 \r\nL 73.208167 126.998739 \r\nL 72.925761 127.972564 \r\nL 72.651901 128.94639 \r\nL 72.386642 129.920215 \r\nL 72.130038 130.89404 \r\nL 72.008081 131.38239 \r\nL 71.889175 131.87074 \r\nL 71.773329 132.35909 \r\nL 71.660549 132.84744 \r\nL 71.550845 133.335789 \r\nL 71.444224 133.824139 \r\nL 71.340695 134.312489 \r\nL 71.240264 134.800839 \r\nL 70.961651 136.299601 \r\nL 70.719516 137.798363 \r\nL 70.51407 139.297126 \r\nL 70.345493 140.795888 \r\nL 70.213935 142.29465 \r\nL 70.119511 143.793413 \r\nL 70.062306 145.292175 \r\nL 70.042371 146.790937 \r\n\" style=\"fill:none;stroke:#4c72b0;stroke-linecap:square;stroke-width:1.5;\"/>\r\n   </g>\r\n   <g id=\"patch_3\">\r\n    <path d=\"M 53.7125 242.6 \r\nL 53.7125 7.2 \r\n\" style=\"fill:none;stroke:#000000;stroke-linecap:square;stroke-linejoin:miter;stroke-width:0.8;\"/>\r\n   </g>\r\n   <g id=\"patch_4\">\r\n    <path d=\"M 412.969654 242.6 \r\nL 412.969654 7.2 \r\n\" style=\"fill:none;stroke:#000000;stroke-linecap:square;stroke-linejoin:miter;stroke-width:0.8;\"/>\r\n   </g>\r\n   <g id=\"patch_5\">\r\n    <path d=\"M 53.7125 242.6 \r\nL 412.969654 242.6 \r\n\" style=\"fill:none;stroke:#000000;stroke-linecap:square;stroke-linejoin:miter;stroke-width:0.8;\"/>\r\n   </g>\r\n   <g id=\"patch_6\">\r\n    <path d=\"M 53.7125 7.2 \r\nL 412.969654 7.2 \r\n\" style=\"fill:none;stroke:#000000;stroke-linecap:square;stroke-linejoin:miter;stroke-width:0.8;\"/>\r\n   </g>\r\n   <g id=\"legend_1\">\r\n    <g id=\"patch_7\">\r\n     <path d=\"M 293.141529 59.234375 \r\nL 405.969654 59.234375 \r\nQ 407.969654 59.234375 407.969654 57.234375 \r\nL 407.969654 14.2 \r\nQ 407.969654 12.2 405.969654 12.2 \r\nL 293.141529 12.2 \r\nQ 291.141529 12.2 291.141529 14.2 \r\nL 291.141529 57.234375 \r\nQ 291.141529 59.234375 293.141529 59.234375 \r\nz\r\n\" style=\"fill:#ffffff;opacity:0.8;stroke:#cccccc;stroke-linejoin:miter;\"/>\r\n    </g>\r\n    <g id=\"line2d_17\">\r\n     <path d=\"M 295.141529 20.298437 \r\nL 315.141529 20.298437 \r\n\" style=\"fill:none;stroke:#4c72b0;stroke-linecap:square;stroke-width:1.5;\"/>\r\n    </g>\r\n    <g id=\"line2d_18\"/>\r\n    <g id=\"text_18\">\r\n     <!-- Efficient frontier -->\r\n     <g transform=\"translate(323.141529 23.798437)scale(0.1 -0.1)\">\r\n      <defs>\r\n       <path d=\"M 628 4666 \r\nL 3578 4666 \r\nL 3578 4134 \r\nL 1259 4134 \r\nL 1259 2753 \r\nL 3481 2753 \r\nL 3481 2222 \r\nL 1259 2222 \r\nL 1259 531 \r\nL 3634 531 \r\nL 3634 0 \r\nL 628 0 \r\nL 628 4666 \r\nz\r\n\" id=\"DejaVuSans-45\" transform=\"scale(0.015625)\"/>\r\n       <path d=\"M 2375 4863 \r\nL 2375 4384 \r\nL 1825 4384 \r\nQ 1516 4384 1395 4259 \r\nQ 1275 4134 1275 3809 \r\nL 1275 3500 \r\nL 2222 3500 \r\nL 2222 3053 \r\nL 1275 3053 \r\nL 1275 0 \r\nL 697 0 \r\nL 697 3053 \r\nL 147 3053 \r\nL 147 3500 \r\nL 697 3500 \r\nL 697 3744 \r\nQ 697 4328 969 4595 \r\nQ 1241 4863 1831 4863 \r\nL 2375 4863 \r\nz\r\n\" id=\"DejaVuSans-66\" transform=\"scale(0.015625)\"/>\r\n       <path d=\"M 3122 3366 \r\nL 3122 2828 \r\nQ 2878 2963 2633 3030 \r\nQ 2388 3097 2138 3097 \r\nQ 1578 3097 1268 2742 \r\nQ 959 2388 959 1747 \r\nQ 959 1106 1268 751 \r\nQ 1578 397 2138 397 \r\nQ 2388 397 2633 464 \r\nQ 2878 531 3122 666 \r\nL 3122 134 \r\nQ 2881 22 2623 -34 \r\nQ 2366 -91 2075 -91 \r\nQ 1284 -91 818 406 \r\nQ 353 903 353 1747 \r\nQ 353 2603 823 3093 \r\nQ 1294 3584 2113 3584 \r\nQ 2378 3584 2631 3529 \r\nQ 2884 3475 3122 3366 \r\nz\r\n\" id=\"DejaVuSans-63\" transform=\"scale(0.015625)\"/>\r\n       <path id=\"DejaVuSans-20\" transform=\"scale(0.015625)\"/>\r\n      </defs>\r\n      <use xlink:href=\"#DejaVuSans-45\"/>\r\n      <use x=\"63.183594\" xlink:href=\"#DejaVuSans-66\"/>\r\n      <use x=\"98.388672\" xlink:href=\"#DejaVuSans-66\"/>\r\n      <use x=\"133.59375\" xlink:href=\"#DejaVuSans-69\"/>\r\n      <use x=\"161.376953\" xlink:href=\"#DejaVuSans-63\"/>\r\n      <use x=\"216.357422\" xlink:href=\"#DejaVuSans-69\"/>\r\n      <use x=\"244.140625\" xlink:href=\"#DejaVuSans-65\"/>\r\n      <use x=\"305.664062\" xlink:href=\"#DejaVuSans-6e\"/>\r\n      <use x=\"369.042969\" xlink:href=\"#DejaVuSans-74\"/>\r\n      <use x=\"408.251953\" xlink:href=\"#DejaVuSans-20\"/>\r\n      <use x=\"440.039062\" xlink:href=\"#DejaVuSans-66\"/>\r\n      <use x=\"475.244141\" xlink:href=\"#DejaVuSans-72\"/>\r\n      <use x=\"514.107422\" xlink:href=\"#DejaVuSans-6f\"/>\r\n      <use x=\"575.289062\" xlink:href=\"#DejaVuSans-6e\"/>\r\n      <use x=\"638.667969\" xlink:href=\"#DejaVuSans-74\"/>\r\n      <use x=\"677.876953\" xlink:href=\"#DejaVuSans-69\"/>\r\n      <use x=\"705.660156\" xlink:href=\"#DejaVuSans-65\"/>\r\n      <use x=\"767.183594\" xlink:href=\"#DejaVuSans-72\"/>\r\n     </g>\r\n    </g>\r\n    <g id=\"PathCollection_3\">\r\n     <g>\r\n      <use style=\"fill:#ff0000;stroke:#ff0000;stroke-width:1.5;\" x=\"305.141529\" xlink:href=\"#meac2909f14\" y=\"35.851562\"/>\r\n     </g>\r\n    </g>\r\n    <g id=\"text_19\">\r\n     <!-- optimal -->\r\n     <g transform=\"translate(323.141529 38.476562)scale(0.1 -0.1)\">\r\n      <defs>\r\n       <path d=\"M 1159 525 \r\nL 1159 -1331 \r\nL 581 -1331 \r\nL 581 3500 \r\nL 1159 3500 \r\nL 1159 2969 \r\nQ 1341 3281 1617 3432 \r\nQ 1894 3584 2278 3584 \r\nQ 2916 3584 3314 3078 \r\nQ 3713 2572 3713 1747 \r\nQ 3713 922 3314 415 \r\nQ 2916 -91 2278 -91 \r\nQ 1894 -91 1617 61 \r\nQ 1341 213 1159 525 \r\nz\r\nM 3116 1747 \r\nQ 3116 2381 2855 2742 \r\nQ 2594 3103 2138 3103 \r\nQ 1681 3103 1420 2742 \r\nQ 1159 2381 1159 1747 \r\nQ 1159 1113 1420 752 \r\nQ 1681 391 2138 391 \r\nQ 2594 391 2855 752 \r\nQ 3116 1113 3116 1747 \r\nz\r\n\" id=\"DejaVuSans-70\" transform=\"scale(0.015625)\"/>\r\n       <path d=\"M 3328 2828 \r\nQ 3544 3216 3844 3400 \r\nQ 4144 3584 4550 3584 \r\nQ 5097 3584 5394 3201 \r\nQ 5691 2819 5691 2113 \r\nL 5691 0 \r\nL 5113 0 \r\nL 5113 2094 \r\nQ 5113 2597 4934 2840 \r\nQ 4756 3084 4391 3084 \r\nQ 3944 3084 3684 2787 \r\nQ 3425 2491 3425 1978 \r\nL 3425 0 \r\nL 2847 0 \r\nL 2847 2094 \r\nQ 2847 2600 2669 2842 \r\nQ 2491 3084 2119 3084 \r\nQ 1678 3084 1418 2786 \r\nQ 1159 2488 1159 1978 \r\nL 1159 0 \r\nL 581 0 \r\nL 581 3500 \r\nL 1159 3500 \r\nL 1159 2956 \r\nQ 1356 3278 1631 3431 \r\nQ 1906 3584 2284 3584 \r\nQ 2666 3584 2933 3390 \r\nQ 3200 3197 3328 2828 \r\nz\r\n\" id=\"DejaVuSans-6d\" transform=\"scale(0.015625)\"/>\r\n      </defs>\r\n      <use xlink:href=\"#DejaVuSans-6f\"/>\r\n      <use x=\"61.181641\" xlink:href=\"#DejaVuSans-70\"/>\r\n      <use x=\"124.658203\" xlink:href=\"#DejaVuSans-74\"/>\r\n      <use x=\"163.867188\" xlink:href=\"#DejaVuSans-69\"/>\r\n      <use x=\"191.650391\" xlink:href=\"#DejaVuSans-6d\"/>\r\n      <use x=\"289.0625\" xlink:href=\"#DejaVuSans-61\"/>\r\n      <use x=\"350.341797\" xlink:href=\"#DejaVuSans-6c\"/>\r\n     </g>\r\n    </g>\r\n    <g id=\"PathCollection_4\">\r\n     <g>\r\n      <use style=\"stroke:#000000;\" x=\"305.141529\" xlink:href=\"#mb9ae312be6\" y=\"50.529687\"/>\r\n     </g>\r\n    </g>\r\n    <g id=\"text_20\">\r\n     <!-- assets -->\r\n     <g transform=\"translate(323.141529 53.154687)scale(0.1 -0.1)\">\r\n      <defs>\r\n       <path d=\"M 2834 3397 \r\nL 2834 2853 \r\nQ 2591 2978 2328 3040 \r\nQ 2066 3103 1784 3103 \r\nQ 1356 3103 1142 2972 \r\nQ 928 2841 928 2578 \r\nQ 928 2378 1081 2264 \r\nQ 1234 2150 1697 2047 \r\nL 1894 2003 \r\nQ 2506 1872 2764 1633 \r\nQ 3022 1394 3022 966 \r\nQ 3022 478 2636 193 \r\nQ 2250 -91 1575 -91 \r\nQ 1294 -91 989 -36 \r\nQ 684 19 347 128 \r\nL 347 722 \r\nQ 666 556 975 473 \r\nQ 1284 391 1588 391 \r\nQ 1994 391 2212 530 \r\nQ 2431 669 2431 922 \r\nQ 2431 1156 2273 1281 \r\nQ 2116 1406 1581 1522 \r\nL 1381 1569 \r\nQ 847 1681 609 1914 \r\nQ 372 2147 372 2553 \r\nQ 372 3047 722 3315 \r\nQ 1072 3584 1716 3584 \r\nQ 2034 3584 2315 3537 \r\nQ 2597 3491 2834 3397 \r\nz\r\n\" id=\"DejaVuSans-73\" transform=\"scale(0.015625)\"/>\r\n      </defs>\r\n      <use xlink:href=\"#DejaVuSans-61\"/>\r\n      <use x=\"61.279297\" xlink:href=\"#DejaVuSans-73\"/>\r\n      <use x=\"113.378906\" xlink:href=\"#DejaVuSans-73\"/>\r\n      <use x=\"165.478516\" xlink:href=\"#DejaVuSans-65\"/>\r\n      <use x=\"227.001953\" xlink:href=\"#DejaVuSans-74\"/>\r\n      <use x=\"266.210938\" xlink:href=\"#DejaVuSans-73\"/>\r\n     </g>\r\n    </g>\r\n   </g>\r\n  </g>\r\n </g>\r\n <defs>\r\n  <clipPath id=\"pdb24716d23\">\r\n   <rect height=\"235.4\" width=\"359.257154\" x=\"53.7125\" y=\"7.2\"/>\r\n  </clipPath>\r\n </defs>\r\n</svg>\r\n",
      "image/png": "[encoded data removed]"
     },
     "metadata": {
      "needs_background": "light"
     }
    }
   ],
   "source": [
    "cl_obj = CLA(mu, Sigma)\n",
    "ax = pplt.plot_efficient_frontier(cl_obj, showfig = False)\n",
    "ax.xaxis.set_major_formatter(FuncFormatter(lambda x, _: '{:.0%}'.format(x)))\n",
    "ax.yaxis.set_major_formatter(FuncFormatter(lambda y, _: '{:.0%}'.format(y)))"
   ]
  },
  {
   "cell_type": "code",
   "execution_count": 10,
   "metadata": {},
   "outputs": [
    {
     "output_type": "stream",
     "name": "stdout",
     "text": [
      "OrderedDict([('AAPL', 0.0), ('AMGN', 0.0), ('AXP', 0.0), ('BA', 0.0), ('CAT', 0.0), ('CRM', 0.0), ('CSCO', 0.0), ('CVX', 0.0), ('DIS', 0.0), ('DOW', 0.0), ('GS', 0.0), ('HD', 0.0), ('HON', 0.0), ('IBM', 0.0), ('INTC', 0.0), ('JNJ', 0.05181), ('JPM', 0.0), ('KO', 0.0), ('MCD', 0.05844), ('MMM', 0.02217), ('MRK', 0.06488), ('MSFT', 0.0), ('NKE', 0.0025), ('PG', 0.0), ('TRV', 0.0), ('UNH', 0.0), ('V', 0.0), ('VZ', 0.60157), ('WBA', 0.0), ('WMT', 0.19864)])\n"
     ]
    }
   ],
   "source": [
    "#Min Volatility Portfolio\n",
    "ef1 = EfficientFrontier(mu, Sigma, weight_bounds=(0,1)) #weight bounds in negative allows shorting of stocks\n",
    "minvol=ef1.min_volatility()\n",
    "minvol_pwt=ef1.clean_weights()\n",
    "print(minvol_pwt)"
   ]
  },
  {
   "cell_type": "code",
   "execution_count": 11,
   "metadata": {},
   "outputs": [
    {
     "output_type": "stream",
     "name": "stdout",
     "text": [
      "Expected annual return: 6.1%\nAnnual volatility: 21.5%\nSharpe Ratio: 0.19\n"
     ]
    },
    {
     "output_type": "execute_result",
     "data": {
      "text/plain": [
       "(0.06122083270781571, 0.21488424040381635, 0.19182808674266846)"
      ]
     },
     "metadata": {},
     "execution_count": 11
    }
   ],
   "source": [
    "# 2year risk free rate - Treasury Yield \n",
    "ef1.portfolio_performance(verbose=True)"
   ]
  },
  {
   "cell_type": "code",
   "execution_count": 12,
   "metadata": {},
   "outputs": [
    {
     "output_type": "stream",
     "name": "stdout",
     "text": [
      "{'JNJ': 31, 'MCD': 25, 'MMM': 11, 'MRK': 82, 'NKE': 1, 'VZ': 1067, 'WMT': 142}\nLeftover Fund value in$ after building minimum volatility portfolio is $0.04\n"
     ]
    }
   ],
   "source": [
    "# Allocate Portfolio Value in $ as required to show number of shares to buy, also bounds for shorting will affect allocation\n",
    "latest_prices = discrete_allocation.get_latest_prices(df_stocks)\n",
    "\n",
    "#Min Volatility Portfolio Allocation $10000\n",
    "allocation_minv, rem_minv = discrete_allocation.DiscreteAllocation(minvol_pwt, latest_prices, total_portfolio_value=100000).lp_portfolio()\n",
    "print(allocation_minv)\n",
    "print(\"Leftover Fund value in$ after building minimum volatility portfolio is ${:.2f}\".format(rem_minv))"
   ]
  },
  {
   "cell_type": "code",
   "execution_count": 13,
   "metadata": {},
   "outputs": [
    {
     "output_type": "stream",
     "name": "stdout",
     "text": [
      "{'AAPL': 81, 'AXP': 29, 'CAT': 56, 'DIS': 3, 'DOW': 13, 'GS': 33, 'HD': 17, 'HON': 36, 'JNJ': 72, 'MMM': 4, 'MSFT': 40, 'NKE': 55, 'TRV': 29, 'UNH': 2, 'VZ': 8, 'WMT': 42, 'AMGN': -155, 'BA': -218, 'CRM': -74, 'CSCO': -146, 'CVX': -335, 'IBM': -187, 'INTC': -1408, 'JPM': -532, 'KO': -1400, 'MCD': -293, 'MRK': -347, 'PG': -558, 'V': -419, 'WBA': -627}\nLeftover Fund value in$ after building Max Sharpe ratio portfolio is $29.02\n"
     ]
    }
   ],
   "source": [
    "#Max Sharpe Ratio Portfolio Allocation $10000\n",
    "latest_prices1 = discrete_allocation.get_latest_prices(df_stocks)\n",
    "allocation_shp, rem_shp = discrete_allocation.DiscreteAllocation(sharpe_pwt, latest_prices1, total_portfolio_value=100000).lp_portfolio() \n",
    "print(allocation_shp)\n",
    "print(\"Leftover Fund value in$ after building Max Sharpe ratio portfolio is ${:.2f}\".format(rem_shp))"
   ]
  },
  {
   "cell_type": "code",
   "execution_count": null,
   "metadata": {},
   "outputs": [],
   "source": []
  }
 ]
}